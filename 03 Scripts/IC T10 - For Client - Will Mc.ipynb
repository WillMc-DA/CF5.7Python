{
 "cells": [
  {
   "cell_type": "markdown",
   "id": "8f38fc0c",
   "metadata": {},
   "source": [
    "### This script contains:\n",
    "\n",
    "#### 1. Import libraries & datasets\n",
    "#### 2. Panda and User subset setup\n",
    "#### 3. Create 'Region' Flag\n",
    "#### 4. Compare spending habits in the different regions\n",
    "#### 5. Make Groupings - Age\n",
    "#### 6. Make Groupings - Income\n",
    "#### 7. Make Groupings - Parent/Non-Parent\n",
    "#### 8. Confirm the new flags\n",
    "#### 9. Export Dataframes\n",
    "#### 10. Create Charts - Users/Income Groups\n",
    "#### 11. Create Charts - Customers in each Loyalty Group - Percentages\n",
    "#### 12. Create Charts - Users per Region - Percentages\n",
    "#### 13. Create Charts - Parents/Non-parents - Percentages\n",
    "#### 14. Create Charts - Users/Income Groups - Percentages\n",
    "#### 15. Aggregate the max, mean, and min variables on a customer-profile level\n",
    "#### 16. Import and merge Departments dataset and current dataset\n",
    "#### 17. Create Charts - Top Departments\n",
    "#### 18. Create Charts - Age Groupings by Region\n",
    "#### 19. Create Charts - Products ordered by income groups (Full Dataset) - Percentages\n",
    "#### 20. Create Charts - Products ordered by income groups (By Region) - Percentages\n",
    "#### 21. Create Charts - Products ordered by Customer Loyalty (By Region) - Percentages\n",
    "#### 22. Create Charts - Top Departments - By Region\n",
    "#### 23. Create Charts - Orders in each Dept, by Region\n",
    "#### 24. Task for CFO\n",
    "#### 25. Exporting final dataframe"
   ]
  },
  {
   "cell_type": "markdown",
   "id": "af37ef25",
   "metadata": {},
   "source": [
    "### 1. Importing libraries and datasets"
   ]
  },
  {
   "cell_type": "code",
   "execution_count": 1,
   "id": "8537fd97",
   "metadata": {},
   "outputs": [],
   "source": [
    "#Import libraries \n",
    "import pandas as pd\n",
    "import numpy as np\n",
    "import os\n",
    "import matplotlib.pyplot as plt\n",
    "import seaborn as sns\n",
    "import scipy"
   ]
  },
  {
   "cell_type": "code",
   "execution_count": 2,
   "id": "939af335",
   "metadata": {},
   "outputs": [],
   "source": [
    "#Folder path into usable string\n",
    "path = r'C:\\Users\\willm\\Instacart Basket Analysis'"
   ]
  },
  {
   "cell_type": "code",
   "execution_count": 3,
   "id": "4bfa2a2d",
   "metadata": {},
   "outputs": [],
   "source": [
    "#Import 4.9 pickle Dataset\n",
    "df10ex = pd.read_pickle(os.path.join(path, '02 Data', 'Prepared Data', '49_df_combined.pkl'))"
   ]
  },
  {
   "cell_type": "markdown",
   "id": "e52d686b",
   "metadata": {},
   "source": [
    "### 2. Panda and User subset setup"
   ]
  },
  {
   "cell_type": "code",
   "execution_count": 4,
   "id": "6e62300a",
   "metadata": {},
   "outputs": [],
   "source": [
    "#Make Panda show all columns when Head or Tail requested\n",
    "pd.options.display.max_columns = None"
   ]
  },
  {
   "cell_type": "code",
   "execution_count": 5,
   "id": "73b67f81",
   "metadata": {},
   "outputs": [
    {
     "name": "stdout",
     "output_type": "stream",
     "text": [
      "Wall time: 1.92 s\n"
     ]
    }
   ],
   "source": [
    "%%time\n",
    "#Creating a subset of the individual users\n",
    "#This allows us to show outputs in real customer numbers, while making changes to the whole dataframe if needed\n",
    "df10exuser = df10ex.drop_duplicates(subset = [\"user_id\"])"
   ]
  },
  {
   "cell_type": "code",
   "execution_count": 6,
   "id": "5aefa96a",
   "metadata": {},
   "outputs": [
    {
     "data": {
      "text/html": [
       "<div>\n",
       "<style scoped>\n",
       "    .dataframe tbody tr th:only-of-type {\n",
       "        vertical-align: middle;\n",
       "    }\n",
       "\n",
       "    .dataframe tbody tr th {\n",
       "        vertical-align: top;\n",
       "    }\n",
       "\n",
       "    .dataframe thead th {\n",
       "        text-align: right;\n",
       "    }\n",
       "</style>\n",
       "<table border=\"1\" class=\"dataframe\">\n",
       "  <thead>\n",
       "    <tr style=\"text-align: right;\">\n",
       "      <th></th>\n",
       "      <th>order_number</th>\n",
       "      <th>orders_day_of_week</th>\n",
       "      <th>order_hour_of_day</th>\n",
       "      <th>days_since_prior_order</th>\n",
       "      <th>product_id</th>\n",
       "      <th>reordered</th>\n",
       "      <th>aisle_id</th>\n",
       "      <th>department_id</th>\n",
       "      <th>prices</th>\n",
       "      <th>max_order</th>\n",
       "      <th>spend_group</th>\n",
       "      <th>days_since_last_order_median</th>\n",
       "      <th>age</th>\n",
       "      <th>children</th>\n",
       "      <th>income</th>\n",
       "    </tr>\n",
       "  </thead>\n",
       "  <tbody>\n",
       "    <tr>\n",
       "      <th>count</th>\n",
       "      <td>206209.000000</td>\n",
       "      <td>206209.000000</td>\n",
       "      <td>206209.000000</td>\n",
       "      <td>144417.0</td>\n",
       "      <td>206209.000000</td>\n",
       "      <td>206209.0</td>\n",
       "      <td>206209.000000</td>\n",
       "      <td>206209.000000</td>\n",
       "      <td>206209.000000</td>\n",
       "      <td>206209.000000</td>\n",
       "      <td>206209.000000</td>\n",
       "      <td>206208.000000</td>\n",
       "      <td>206209.000000</td>\n",
       "      <td>206209.000000</td>\n",
       "      <td>206209.000000</td>\n",
       "    </tr>\n",
       "    <tr>\n",
       "      <th>mean</th>\n",
       "      <td>5.680305</td>\n",
       "      <td>2.742286</td>\n",
       "      <td>13.554709</td>\n",
       "      <td>NaN</td>\n",
       "      <td>24777.771179</td>\n",
       "      <td>0.0</td>\n",
       "      <td>46.173247</td>\n",
       "      <td>7.346808</td>\n",
       "      <td>NaN</td>\n",
       "      <td>15.590256</td>\n",
       "      <td>NaN</td>\n",
       "      <td>NaN</td>\n",
       "      <td>49.501646</td>\n",
       "      <td>1.499823</td>\n",
       "      <td>94632.852548</td>\n",
       "    </tr>\n",
       "    <tr>\n",
       "      <th>std</th>\n",
       "      <td>8.443437</td>\n",
       "      <td>2.083326</td>\n",
       "      <td>4.230547</td>\n",
       "      <td>0.0</td>\n",
       "      <td>14522.896969</td>\n",
       "      <td>0.0</td>\n",
       "      <td>34.203953</td>\n",
       "      <td>5.636049</td>\n",
       "      <td>0.000000</td>\n",
       "      <td>16.654823</td>\n",
       "      <td>0.000000</td>\n",
       "      <td>0.000000</td>\n",
       "      <td>18.480962</td>\n",
       "      <td>1.118433</td>\n",
       "      <td>42473.786988</td>\n",
       "    </tr>\n",
       "    <tr>\n",
       "      <th>min</th>\n",
       "      <td>1.000000</td>\n",
       "      <td>0.000000</td>\n",
       "      <td>0.000000</td>\n",
       "      <td>0.0</td>\n",
       "      <td>1.000000</td>\n",
       "      <td>0.0</td>\n",
       "      <td>-128.000000</td>\n",
       "      <td>1.000000</td>\n",
       "      <td>1.000000</td>\n",
       "      <td>1.000000</td>\n",
       "      <td>1.000000</td>\n",
       "      <td>0.000000</td>\n",
       "      <td>18.000000</td>\n",
       "      <td>0.000000</td>\n",
       "      <td>25903.000000</td>\n",
       "    </tr>\n",
       "    <tr>\n",
       "      <th>25%</th>\n",
       "      <td>1.000000</td>\n",
       "      <td>1.000000</td>\n",
       "      <td>10.000000</td>\n",
       "      <td>6.0</td>\n",
       "      <td>13176.000000</td>\n",
       "      <td>0.0</td>\n",
       "      <td>24.000000</td>\n",
       "      <td>4.000000</td>\n",
       "      <td>4.398438</td>\n",
       "      <td>5.000000</td>\n",
       "      <td>7.222656</td>\n",
       "      <td>9.546875</td>\n",
       "      <td>33.000000</td>\n",
       "      <td>0.000000</td>\n",
       "      <td>59874.000000</td>\n",
       "    </tr>\n",
       "    <tr>\n",
       "      <th>50%</th>\n",
       "      <td>3.000000</td>\n",
       "      <td>3.000000</td>\n",
       "      <td>14.000000</td>\n",
       "      <td>13.0</td>\n",
       "      <td>21573.000000</td>\n",
       "      <td>0.0</td>\n",
       "      <td>24.000000</td>\n",
       "      <td>4.000000</td>\n",
       "      <td>9.000000</td>\n",
       "      <td>9.000000</td>\n",
       "      <td>7.789062</td>\n",
       "      <td>14.687500</td>\n",
       "      <td>49.000000</td>\n",
       "      <td>1.000000</td>\n",
       "      <td>93547.000000</td>\n",
       "    </tr>\n",
       "    <tr>\n",
       "      <th>75%</th>\n",
       "      <td>6.000000</td>\n",
       "      <td>5.000000</td>\n",
       "      <td>17.000000</td>\n",
       "      <td>28.0</td>\n",
       "      <td>38444.000000</td>\n",
       "      <td>0.0</td>\n",
       "      <td>77.000000</td>\n",
       "      <td>11.000000</td>\n",
       "      <td>10.296875</td>\n",
       "      <td>19.000000</td>\n",
       "      <td>8.328125</td>\n",
       "      <td>20.718750</td>\n",
       "      <td>66.000000</td>\n",
       "      <td>3.000000</td>\n",
       "      <td>124244.000000</td>\n",
       "    </tr>\n",
       "    <tr>\n",
       "      <th>max</th>\n",
       "      <td>99.000000</td>\n",
       "      <td>6.000000</td>\n",
       "      <td>23.000000</td>\n",
       "      <td>30.0</td>\n",
       "      <td>49683.000000</td>\n",
       "      <td>0.0</td>\n",
       "      <td>127.000000</td>\n",
       "      <td>21.000000</td>\n",
       "      <td>25.000000</td>\n",
       "      <td>99.000000</td>\n",
       "      <td>23.203125</td>\n",
       "      <td>30.000000</td>\n",
       "      <td>81.000000</td>\n",
       "      <td>3.000000</td>\n",
       "      <td>593901.000000</td>\n",
       "    </tr>\n",
       "  </tbody>\n",
       "</table>\n",
       "</div>"
      ],
      "text/plain": [
       "        order_number  orders_day_of_week  order_hour_of_day  \\\n",
       "count  206209.000000       206209.000000      206209.000000   \n",
       "mean        5.680305            2.742286          13.554709   \n",
       "std         8.443437            2.083326           4.230547   \n",
       "min         1.000000            0.000000           0.000000   \n",
       "25%         1.000000            1.000000          10.000000   \n",
       "50%         3.000000            3.000000          14.000000   \n",
       "75%         6.000000            5.000000          17.000000   \n",
       "max        99.000000            6.000000          23.000000   \n",
       "\n",
       "       days_since_prior_order     product_id  reordered       aisle_id  \\\n",
       "count                144417.0  206209.000000   206209.0  206209.000000   \n",
       "mean                      NaN   24777.771179        0.0      46.173247   \n",
       "std                       0.0   14522.896969        0.0      34.203953   \n",
       "min                       0.0       1.000000        0.0    -128.000000   \n",
       "25%                       6.0   13176.000000        0.0      24.000000   \n",
       "50%                      13.0   21573.000000        0.0      24.000000   \n",
       "75%                      28.0   38444.000000        0.0      77.000000   \n",
       "max                      30.0   49683.000000        0.0     127.000000   \n",
       "\n",
       "       department_id         prices      max_order    spend_group  \\\n",
       "count  206209.000000  206209.000000  206209.000000  206209.000000   \n",
       "mean        7.346808            NaN      15.590256            NaN   \n",
       "std         5.636049       0.000000      16.654823       0.000000   \n",
       "min         1.000000       1.000000       1.000000       1.000000   \n",
       "25%         4.000000       4.398438       5.000000       7.222656   \n",
       "50%         4.000000       9.000000       9.000000       7.789062   \n",
       "75%        11.000000      10.296875      19.000000       8.328125   \n",
       "max        21.000000      25.000000      99.000000      23.203125   \n",
       "\n",
       "       days_since_last_order_median            age       children  \\\n",
       "count                 206208.000000  206209.000000  206209.000000   \n",
       "mean                            NaN      49.501646       1.499823   \n",
       "std                        0.000000      18.480962       1.118433   \n",
       "min                        0.000000      18.000000       0.000000   \n",
       "25%                        9.546875      33.000000       0.000000   \n",
       "50%                       14.687500      49.000000       1.000000   \n",
       "75%                       20.718750      66.000000       3.000000   \n",
       "max                       30.000000      81.000000       3.000000   \n",
       "\n",
       "              income  \n",
       "count  206209.000000  \n",
       "mean    94632.852548  \n",
       "std     42473.786988  \n",
       "min     25903.000000  \n",
       "25%     59874.000000  \n",
       "50%     93547.000000  \n",
       "75%    124244.000000  \n",
       "max    593901.000000  "
      ]
     },
     "execution_count": 6,
     "metadata": {},
     "output_type": "execute_result"
    }
   ],
   "source": [
    "#Confirming the count equals the ammount of customers we had in our original customers file - 206,209\n",
    "df10exuser.describe()"
   ]
  },
  {
   "cell_type": "markdown",
   "id": "ff976961",
   "metadata": {},
   "source": [
    "### 3. Creating 'Region' Flag"
   ]
  },
  {
   "cell_type": "code",
   "execution_count": 7,
   "id": "ee0326e6",
   "metadata": {},
   "outputs": [
    {
     "data": {
      "text/plain": [
       "Alabama                 4044\n",
       "Arizona                 4044\n",
       "California              4044\n",
       "Florida                 4044\n",
       "Colorado                4044\n",
       "District of Columbia    4044\n",
       "Georgia                 4044\n",
       "Arkansas                4044\n",
       "Indiana                 4044\n",
       "Alaska                  4044\n",
       "Idaho                   4044\n",
       "Illinois                4044\n",
       "Hawaii                  4044\n",
       "Delaware                4044\n",
       "Connecticut             4044\n",
       "Iowa                    4044\n",
       "New Jersey              4043\n",
       "Rhode Island            4043\n",
       "Washington              4043\n",
       "Louisiana               4043\n",
       "Mississippi             4043\n",
       "Texas                   4043\n",
       "New Mexico              4043\n",
       "Missouri                4043\n",
       "Montana                 4043\n",
       "Wyoming                 4043\n",
       "New Hampshire           4043\n",
       "Massachusetts           4043\n",
       "Pennsylvania            4043\n",
       "Wisconsin               4043\n",
       "West Virginia           4043\n",
       "North Dakota            4043\n",
       "South Carolina          4043\n",
       "Utah                    4043\n",
       "Oklahoma                4043\n",
       "North Carolina          4043\n",
       "Maine                   4043\n",
       "South Dakota            4043\n",
       "Minnesota               4043\n",
       "Oregon                  4043\n",
       "Kentucky                4043\n",
       "Kansas                  4043\n",
       "Vermont                 4043\n",
       "Michigan                4043\n",
       "Virginia                4043\n",
       "Maryland                4043\n",
       "Nebraska                4043\n",
       "Nevada                  4043\n",
       "Ohio                    4043\n",
       "Tennessee               4043\n",
       "New York                4043\n",
       "Name: state, dtype: int64"
      ]
     },
     "execution_count": 7,
     "metadata": {},
     "output_type": "execute_result"
    }
   ],
   "source": [
    "#Checking to see the state names in our dataframe, along with 'counts' to spot any issues\n",
    "df10exuser['state'].value_counts(dropna = False)"
   ]
  },
  {
   "cell_type": "code",
   "execution_count": 8,
   "id": "1d1c3683",
   "metadata": {},
   "outputs": [],
   "source": [
    "#Divide States into Regions\n",
    "result = []\n",
    "for value in df10ex['state']:\n",
    "    if (value == 'Maine') or (value == 'New Hampshire') or (value == 'Vermont') or (value == 'Massachusetts') or (value == 'Rhode Island') or (value == 'Connecticut') or (value == 'New York') or (value == 'Pennsylvania') or (value =='New Jersey'):\n",
    "        result.append('Northeast')\n",
    "    elif (value == 'Wisconsin') or (value == 'Michigan') or (value == 'Illinois') or (value == 'Indiana') or (value == 'Ohio') or (value == 'North Dakota') or (value == 'South Dakota') or (value == 'Nebraska') or (value == 'Kansas') or (value == 'Minnesota') or (value == 'Iowa') or (value == 'Missouri'):\n",
    "        result.append('Midwest')\n",
    "    elif (value == 'Idaho') or (value == 'Montana') or (value == 'Wyoming') or (value == 'Nevada') or (value == 'Utah') or (value == 'Colorado') or (value == 'Arizona') or (value == 'New Mexico') or (value == 'Alaska') or (value == 'Washington') or (value == 'Oregon') or (value == 'California') or (value == 'Hawaii'):\n",
    "        result.append('West')\n",
    "    else:\n",
    "        result.append('South')"
   ]
  },
  {
   "cell_type": "code",
   "execution_count": 9,
   "id": "23371f79",
   "metadata": {},
   "outputs": [],
   "source": [
    "#Creating column to show region\n",
    "df10ex['region'] = result"
   ]
  },
  {
   "cell_type": "code",
   "execution_count": 10,
   "id": "56ee1941",
   "metadata": {},
   "outputs": [],
   "source": [
    "#Creating a subset of the individual users\n",
    "df10exuser = df10ex.drop_duplicates(subset = [\"user_id\"])"
   ]
  },
  {
   "cell_type": "code",
   "execution_count": 11,
   "id": "31a9804f",
   "metadata": {},
   "outputs": [
    {
     "data": {
      "text/plain": [
       "South        68737\n",
       "West         52565\n",
       "Midwest      48519\n",
       "Northeast    36388\n",
       "Name: region, dtype: int64"
      ]
     },
     "execution_count": 11,
     "metadata": {},
     "output_type": "execute_result"
    }
   ],
   "source": [
    "#Checking the count of the regions in the 'region' column\n",
    "df10exuser['region'].value_counts(dropna = False)"
   ]
  },
  {
   "cell_type": "code",
   "execution_count": 12,
   "id": "723aab1e",
   "metadata": {},
   "outputs": [
    {
     "data": {
      "text/plain": [
       "South        10790096\n",
       "West          8291679\n",
       "Midwest       7596065\n",
       "Northeast     5721892\n",
       "Name: region, dtype: int64"
      ]
     },
     "execution_count": 12,
     "metadata": {},
     "output_type": "execute_result"
    }
   ],
   "source": [
    "#Checking the count of the regions in the 'region' column\n",
    "#This shows the ammount of individual items ordered\n",
    "df10ex['region'].value_counts(dropna = False)"
   ]
  },
  {
   "cell_type": "code",
   "execution_count": 13,
   "id": "8edadeae",
   "metadata": {},
   "outputs": [
    {
     "data": {
      "text/plain": [
       "(206209, 31)"
      ]
     },
     "execution_count": 13,
     "metadata": {},
     "output_type": "execute_result"
    }
   ],
   "source": [
    "df10exuser.shape"
   ]
  },
  {
   "cell_type": "code",
   "execution_count": 14,
   "id": "83a2fe7b",
   "metadata": {},
   "outputs": [
    {
     "data": {
      "text/plain": [
       "order_id                            0\n",
       "user_id                             0\n",
       "order_number                        0\n",
       "orders_day_of_week                  0\n",
       "order_hour_of_day                   0\n",
       "days_since_prior_order          61792\n",
       "first_order                         0\n",
       "product_id                          0\n",
       "reordered                           0\n",
       "product_name                        0\n",
       "aisle_id                            0\n",
       "department_id                       0\n",
       "prices                              0\n",
       "price_range_loc                     0\n",
       "busiest_day                         0\n",
       "busiest_period_of_day               0\n",
       "max_order                           0\n",
       "loyalty_flag                        0\n",
       "spend_group                         0\n",
       "spend_flag                          0\n",
       "days_since_last_order_median        1\n",
       "order_frequency_flag                1\n",
       "gender                              0\n",
       "state                               0\n",
       "age                                 0\n",
       "date_joined                         0\n",
       "children                            0\n",
       "f_status                            0\n",
       "income                              0\n",
       "_merge                              0\n",
       "region                              0\n",
       "dtype: int64"
      ]
     },
     "execution_count": 14,
     "metadata": {},
     "output_type": "execute_result"
    }
   ],
   "source": [
    "#Checking to find if 'region' column has any Null entries\n",
    "df10exuser.isnull().sum()"
   ]
  },
  {
   "cell_type": "markdown",
   "id": "feeac332",
   "metadata": {},
   "source": [
    "### 4. Comparing spending habits in the different regions"
   ]
  },
  {
   "cell_type": "code",
   "execution_count": 15,
   "id": "a8911c86",
   "metadata": {},
   "outputs": [],
   "source": [
    "#Creating a crosstab of 'region' and 'spend_flag'\n",
    "crosstabuser = pd.crosstab(df10exuser['region'],df10exuser['spend_flag'],dropna = False)"
   ]
  },
  {
   "cell_type": "code",
   "execution_count": 16,
   "id": "38cb0056",
   "metadata": {},
   "outputs": [
    {
     "data": {
      "text/html": [
       "<div>\n",
       "<style scoped>\n",
       "    .dataframe tbody tr th:only-of-type {\n",
       "        vertical-align: middle;\n",
       "    }\n",
       "\n",
       "    .dataframe tbody tr th {\n",
       "        vertical-align: top;\n",
       "    }\n",
       "\n",
       "    .dataframe thead th {\n",
       "        text-align: right;\n",
       "    }\n",
       "</style>\n",
       "<table border=\"1\" class=\"dataframe\">\n",
       "  <thead>\n",
       "    <tr style=\"text-align: right;\">\n",
       "      <th>spend_flag</th>\n",
       "      <th>High spender</th>\n",
       "      <th>Low spender</th>\n",
       "    </tr>\n",
       "    <tr>\n",
       "      <th>region</th>\n",
       "      <th></th>\n",
       "      <th></th>\n",
       "    </tr>\n",
       "  </thead>\n",
       "  <tbody>\n",
       "    <tr>\n",
       "      <th>Midwest</th>\n",
       "      <td>801</td>\n",
       "      <td>47718</td>\n",
       "    </tr>\n",
       "    <tr>\n",
       "      <th>Northeast</th>\n",
       "      <td>545</td>\n",
       "      <td>35843</td>\n",
       "    </tr>\n",
       "    <tr>\n",
       "      <th>South</th>\n",
       "      <td>1141</td>\n",
       "      <td>67596</td>\n",
       "    </tr>\n",
       "    <tr>\n",
       "      <th>West</th>\n",
       "      <td>902</td>\n",
       "      <td>51663</td>\n",
       "    </tr>\n",
       "  </tbody>\n",
       "</table>\n",
       "</div>"
      ],
      "text/plain": [
       "spend_flag  High spender  Low spender\n",
       "region                               \n",
       "Midwest              801        47718\n",
       "Northeast            545        35843\n",
       "South               1141        67596\n",
       "West                 902        51663"
      ]
     },
     "execution_count": 16,
     "metadata": {},
     "output_type": "execute_result"
    }
   ],
   "source": [
    "#Checking the results of the crosstab\n",
    "crosstabuser"
   ]
  },
  {
   "cell_type": "code",
   "execution_count": 17,
   "id": "3dd2b3e1",
   "metadata": {},
   "outputs": [
    {
     "data": {
      "text/plain": [
       "South        68737\n",
       "West         52565\n",
       "Midwest      48519\n",
       "Northeast    36388\n",
       "Name: region, dtype: int64"
      ]
     },
     "execution_count": 17,
     "metadata": {},
     "output_type": "execute_result"
    }
   ],
   "source": [
    "#Calling up the counts of each 'region' for ease of typing below\n",
    "df10exuser['region'].value_counts(dropna = False)"
   ]
  },
  {
   "cell_type": "code",
   "execution_count": 18,
   "id": "4524e45a",
   "metadata": {},
   "outputs": [],
   "source": [
    "#Getting the percentage of High Spenders for South region\n",
    "South = (1817/68737)*100"
   ]
  },
  {
   "cell_type": "code",
   "execution_count": 19,
   "id": "4a9565c1",
   "metadata": {},
   "outputs": [
    {
     "data": {
      "text/plain": [
       "2.643408935507805"
      ]
     },
     "execution_count": 19,
     "metadata": {},
     "output_type": "execute_result"
    }
   ],
   "source": [
    "South"
   ]
  },
  {
   "cell_type": "code",
   "execution_count": 20,
   "id": "952fbcea",
   "metadata": {},
   "outputs": [],
   "source": [
    "#Getting the percentage of High Spenders for West region\n",
    "West = (1394/52565)*100"
   ]
  },
  {
   "cell_type": "code",
   "execution_count": 21,
   "id": "8ec16cb8",
   "metadata": {},
   "outputs": [
    {
     "data": {
      "text/plain": [
       "2.651954722724246"
      ]
     },
     "execution_count": 21,
     "metadata": {},
     "output_type": "execute_result"
    }
   ],
   "source": [
    "West"
   ]
  },
  {
   "cell_type": "code",
   "execution_count": 22,
   "id": "0f432046",
   "metadata": {},
   "outputs": [],
   "source": [
    "#Getting the percentage of High Spenders for Midwest region\n",
    "Midwest = (1263/48519)*100"
   ]
  },
  {
   "cell_type": "code",
   "execution_count": 23,
   "id": "97376eb2",
   "metadata": {},
   "outputs": [
    {
     "data": {
      "text/plain": [
       "2.603103938663204"
      ]
     },
     "execution_count": 23,
     "metadata": {},
     "output_type": "execute_result"
    }
   ],
   "source": [
    "Midwest"
   ]
  },
  {
   "cell_type": "code",
   "execution_count": 24,
   "id": "9a685563",
   "metadata": {},
   "outputs": [],
   "source": [
    "#Getting the percentage of High Spenders for Northeast region\n",
    "Northeast = (883/36388)*100"
   ]
  },
  {
   "cell_type": "code",
   "execution_count": 25,
   "id": "afb8b649",
   "metadata": {},
   "outputs": [
    {
     "data": {
      "text/plain": [
       "2.4266241618115862"
      ]
     },
     "execution_count": 25,
     "metadata": {},
     "output_type": "execute_result"
    }
   ],
   "source": [
    "Northeast"
   ]
  },
  {
   "cell_type": "markdown",
   "id": "496d4329",
   "metadata": {},
   "source": [
    "#### Using the Big Spenders numbers we can see that the percentage of customers per each region that are big spenders ranges from 2.42% to 2.65%. Therefore we have determined that there is no real difference in the spending habits of customers in each region."
   ]
  },
  {
   "cell_type": "markdown",
   "id": "7aa01b34",
   "metadata": {},
   "source": [
    "### 5. Making Age Groupings \n",
    "#### Using full dataframe until presentation of actual numbers needed"
   ]
  },
  {
   "cell_type": "code",
   "execution_count": 26,
   "id": "c86110f8",
   "metadata": {},
   "outputs": [
    {
     "data": {
      "image/png": "[encoded data removed]",
      "text/plain": [
       "<Figure size 432x288 with 1 Axes>"
      ]
     },
     "metadata": {
      "needs_background": "light"
     },
     "output_type": "display_data"
    }
   ],
   "source": [
    "%%time\n",
    "#Re-running a Scatterplot I did in T9 as it accurately shows distinct age groups by income range\n",
    "#Creating a scatterplot to see if the age of a customer affects their spending power\n",
    "splot2 = sns.scatterplot(x = 'age', y = 'income',data = df10ex)"
   ]
  },
  {
   "cell_type": "markdown",
   "id": "40e8b19c",
   "metadata": {},
   "source": [
    "#### This shows that people aged under 40 have incomes that range up to 400k, with most being under 200k per year. And that people aged over 40 have incomes that range up to 600k, with most being under 300k."
   ]
  },
  {
   "cell_type": "code",
   "execution_count": 26,
   "id": "9498ccb9",
   "metadata": {},
   "outputs": [
    {
     "data": {
      "text/plain": [
       "count    3.239973e+07\n",
       "mean     4.946528e+01\n",
       "std      1.848558e+01\n",
       "min      1.800000e+01\n",
       "25%      3.300000e+01\n",
       "50%      4.900000e+01\n",
       "75%      6.500000e+01\n",
       "max      8.100000e+01\n",
       "Name: age, dtype: float64"
      ]
     },
     "execution_count": 26,
     "metadata": {},
     "output_type": "execute_result"
    }
   ],
   "source": [
    "#Confirming the lowest and highest age of our customers - 18 & 81\n",
    "df10ex['age'].describe()"
   ]
  },
  {
   "cell_type": "markdown",
   "id": "43bc6511",
   "metadata": {},
   "source": [
    "#### I will now split out the customers into 3 different age groups: 18-39, 40-59 and 60-81"
   ]
  },
  {
   "cell_type": "code",
   "execution_count": 27,
   "id": "cf8769d9",
   "metadata": {},
   "outputs": [],
   "source": [
    "#Creating age groups\n",
    "age_group = []\n",
    "for value in df10ex['age']:\n",
    "    if value <= 39:\n",
    "        age_group.append('G1 up to 39')\n",
    "    elif (value > 39) and (value <= 59):\n",
    "        age_group.append('G2 40-59')\n",
    "    elif (value > 59):\n",
    "        age_group.append('G3 60 or more')\n",
    "    else:\n",
    "        result.append('age issue')"
   ]
  },
  {
   "cell_type": "code",
   "execution_count": 28,
   "id": "fcd96c56",
   "metadata": {},
   "outputs": [],
   "source": [
    "#Creating the new age_group column\n",
    "df10ex['age_group'] = age_group"
   ]
  },
  {
   "cell_type": "code",
   "execution_count": 29,
   "id": "96b44710",
   "metadata": {},
   "outputs": [
    {
     "data": {
      "text/plain": [
       "G1 up to 39      11162448\n",
       "G2 40-59         10171755\n",
       "G3 60 or more    11065529\n",
       "Name: age_group, dtype: int64"
      ]
     },
     "execution_count": 29,
     "metadata": {},
     "output_type": "execute_result"
    }
   ],
   "source": [
    "#Checking entries of new age_group column - by amount of products ordered\n",
    "df10ex['age_group'].value_counts(dropna = False).sort_index()"
   ]
  },
  {
   "cell_type": "code",
   "execution_count": 30,
   "id": "7dd28eb9",
   "metadata": {},
   "outputs": [],
   "source": [
    "#Creating a subset of the individual users\n",
    "df10exuser = df10ex.drop_duplicates(subset = [\"user_id\"])"
   ]
  },
  {
   "cell_type": "code",
   "execution_count": 31,
   "id": "c154619e",
   "metadata": {},
   "outputs": [
    {
     "data": {
      "text/plain": [
       "G1 up to 39      70766\n",
       "G2 40-59         64716\n",
       "G3 60 or more    70727\n",
       "Name: age_group, dtype: int64"
      ]
     },
     "execution_count": 31,
     "metadata": {},
     "output_type": "execute_result"
    }
   ],
   "source": [
    "#Checking entries of new age_group column - by amount of individual users\n",
    "df10exuser['age_group'].value_counts(dropna = False).sort_index()"
   ]
  },
  {
   "cell_type": "markdown",
   "id": "05b2bb7d",
   "metadata": {},
   "source": [
    "#### Note: The lower age and higher age were left open so that this script may be run again, when the age profiles may have changed"
   ]
  },
  {
   "cell_type": "markdown",
   "id": "42b781e9",
   "metadata": {},
   "source": [
    "### 6. Making Income Groupings"
   ]
  },
  {
   "cell_type": "code",
   "execution_count": 32,
   "id": "1bfc55f8",
   "metadata": {},
   "outputs": [],
   "source": [
    "#Creating income groups starting at 0-25, increasing by 25k until 100k, then by 50k until 300k, and then by 100k.\n",
    "#500k+ covers all above 500k, incase our customer profile changes to incomes over 600k\n",
    "#0 at the start of the lower groupings helps with viewing the index\n",
    "income = []\n",
    "for value in df10ex['income']:\n",
    "    if value < 25000: \n",
    "        income.append('0-24k')\n",
    "    elif (value > 24000) and (value <= 49000):\n",
    "        income.append('025-49k')\n",
    "    elif (value > 49000) and (value <= 74000):\n",
    "        income.append('050-74k')\n",
    "    elif (value > 74000) and (value <= 99000):\n",
    "        income.append('075-99k')\n",
    "    elif (value > 99000) and (value <= 149000):\n",
    "        income.append('100-149k')\n",
    "    elif (value > 149000) and (value <= 199000):\n",
    "        income.append('150k-199k')\n",
    "    elif (value > 199000) and (value <= 249000):\n",
    "        income.append('200-249k')\n",
    "    elif (value > 249000) and (value <= 299000):\n",
    "        income.append('250k-299k')\n",
    "    elif (value > 299000) and (value <= 399000):\n",
    "        income.append('300k-399k')\n",
    "    elif (value > 399000) and (value <= 499000):\n",
    "        income.append('400k-499k')\n",
    "    elif (value > 500000):\n",
    "        income.append('500k+')\n",
    "    else: \n",
    "        income.append('income issue')"
   ]
  },
  {
   "cell_type": "code",
   "execution_count": 33,
   "id": "53c3b298",
   "metadata": {},
   "outputs": [],
   "source": [
    "#Creating the new income_group column\n",
    "df10ex['income_group'] = income"
   ]
  },
  {
   "cell_type": "code",
   "execution_count": 34,
   "id": "9f224e98",
   "metadata": {},
   "outputs": [
    {
     "data": {
      "text/plain": [
       "025-49k       3455067\n",
       "050-74k       6692777\n",
       "075-99k       7020306\n",
       "100-149k     10997960\n",
       "150k-199k     3977470\n",
       "200-249k        74843\n",
       "250k-299k       78834\n",
       "300k-399k       55247\n",
       "400k-499k       28041\n",
       "500k+           19187\n",
       "Name: income_group, dtype: int64"
      ]
     },
     "execution_count": 34,
     "metadata": {},
     "output_type": "execute_result"
    }
   ],
   "source": [
    "#Checking entries of new income_group column - by amount of products ordered\n",
    "df10ex['income_group'].value_counts(dropna = False).sort_index()"
   ]
  },
  {
   "cell_type": "code",
   "execution_count": 35,
   "id": "f75327d4",
   "metadata": {},
   "outputs": [],
   "source": [
    "#Creating a subset of the individual users\n",
    "df10exuser = df10ex.drop_duplicates(subset = [\"user_id\"])"
   ]
  },
  {
   "cell_type": "code",
   "execution_count": 36,
   "id": "c535a9c8",
   "metadata": {},
   "outputs": [
    {
     "data": {
      "text/plain": [
       "025-49k      32902\n",
       "050-74k      42223\n",
       "075-99k      41373\n",
       "100-149k     65379\n",
       "150k-199k    23324\n",
       "200-249k       307\n",
       "250k-299k      314\n",
       "300k-399k      204\n",
       "400k-499k      113\n",
       "500k+           70\n",
       "Name: income_group, dtype: int64"
      ]
     },
     "execution_count": 36,
     "metadata": {},
     "output_type": "execute_result"
    }
   ],
   "source": [
    "#Checking entries of new income_group column - by amount of individual users\n",
    "df10exuser['income_group'].value_counts(dropna = False).sort_index()"
   ]
  },
  {
   "cell_type": "markdown",
   "id": "5d446b0e",
   "metadata": {},
   "source": [
    "### 7. Making Parent/Non-Parent Groupings"
   ]
  },
  {
   "cell_type": "code",
   "execution_count": 37,
   "id": "93c32f97",
   "metadata": {},
   "outputs": [],
   "source": [
    "#Creating parent/non parent groups\n",
    "df10ex.loc[df10ex['children'] == 0, 'parent_status'] = 'non parent'\n",
    "df10ex.loc[df10ex['children'] >= 1, 'parent_status'] = 'parent'"
   ]
  },
  {
   "cell_type": "code",
   "execution_count": 38,
   "id": "a194e65a",
   "metadata": {},
   "outputs": [
    {
     "data": {
      "text/plain": [
       "parent        24303457\n",
       "non parent     8096275\n",
       "Name: parent_status, dtype: int64"
      ]
     },
     "execution_count": 38,
     "metadata": {},
     "output_type": "execute_result"
    }
   ],
   "source": [
    "#Checking the new parent_status column - by amount of products ordered\n",
    "df10ex['parent_status'].value_counts(dropna = False)"
   ]
  },
  {
   "cell_type": "code",
   "execution_count": 39,
   "id": "e90f24a9",
   "metadata": {},
   "outputs": [],
   "source": [
    "#Creating a subset of the individual users\n",
    "df10exuser = df10ex.drop_duplicates(subset = [\"user_id\"])"
   ]
  },
  {
   "cell_type": "code",
   "execution_count": 40,
   "id": "40e73628",
   "metadata": {},
   "outputs": [
    {
     "data": {
      "text/plain": [
       "parent        154607\n",
       "non parent     51602\n",
       "Name: parent_status, dtype: int64"
      ]
     },
     "execution_count": 40,
     "metadata": {},
     "output_type": "execute_result"
    }
   ],
   "source": [
    "#Checking the new parent_status column - by amount of individual users\n",
    "df10exuser['parent_status'].value_counts(dropna = False)"
   ]
  },
  {
   "cell_type": "markdown",
   "id": "0e2db9f5",
   "metadata": {},
   "source": [
    "### 8. Confirming the new flags"
   ]
  },
  {
   "cell_type": "code",
   "execution_count": 41,
   "id": "953b9c8d",
   "metadata": {},
   "outputs": [
    {
     "data": {
      "text/html": [
       "<div>\n",
       "<style scoped>\n",
       "    .dataframe tbody tr th:only-of-type {\n",
       "        vertical-align: middle;\n",
       "    }\n",
       "\n",
       "    .dataframe tbody tr th {\n",
       "        vertical-align: top;\n",
       "    }\n",
       "\n",
       "    .dataframe thead th {\n",
       "        text-align: right;\n",
       "    }\n",
       "</style>\n",
       "<table border=\"1\" class=\"dataframe\">\n",
       "  <thead>\n",
       "    <tr style=\"text-align: right;\">\n",
       "      <th></th>\n",
       "      <th>order_id</th>\n",
       "      <th>user_id</th>\n",
       "      <th>order_number</th>\n",
       "      <th>orders_day_of_week</th>\n",
       "      <th>order_hour_of_day</th>\n",
       "      <th>days_since_prior_order</th>\n",
       "      <th>first_order</th>\n",
       "      <th>product_id</th>\n",
       "      <th>reordered</th>\n",
       "      <th>product_name</th>\n",
       "      <th>aisle_id</th>\n",
       "      <th>department_id</th>\n",
       "      <th>prices</th>\n",
       "      <th>price_range_loc</th>\n",
       "      <th>busiest_day</th>\n",
       "      <th>busiest_period_of_day</th>\n",
       "      <th>max_order</th>\n",
       "      <th>loyalty_flag</th>\n",
       "      <th>spend_group</th>\n",
       "      <th>spend_flag</th>\n",
       "      <th>days_since_last_order_median</th>\n",
       "      <th>order_frequency_flag</th>\n",
       "      <th>gender</th>\n",
       "      <th>state</th>\n",
       "      <th>age</th>\n",
       "      <th>date_joined</th>\n",
       "      <th>children</th>\n",
       "      <th>f_status</th>\n",
       "      <th>income</th>\n",
       "      <th>_merge</th>\n",
       "      <th>region</th>\n",
       "      <th>age_group</th>\n",
       "      <th>income_group</th>\n",
       "      <th>parent_status</th>\n",
       "    </tr>\n",
       "  </thead>\n",
       "  <tbody>\n",
       "    <tr>\n",
       "      <th>32399702</th>\n",
       "      <td>259165</td>\n",
       "      <td>106143</td>\n",
       "      <td>1</td>\n",
       "      <td>2</td>\n",
       "      <td>21</td>\n",
       "      <td>NaN</td>\n",
       "      <td>First Order</td>\n",
       "      <td>19675</td>\n",
       "      <td>0</td>\n",
       "      <td>Organic Raspberry Black Tea</td>\n",
       "      <td>94</td>\n",
       "      <td>7</td>\n",
       "      <td>10.703125</td>\n",
       "      <td>Mid-range product</td>\n",
       "      <td>Regularly busy</td>\n",
       "      <td>Average orders</td>\n",
       "      <td>26</td>\n",
       "      <td>Regular customer</td>\n",
       "      <td>10.703125</td>\n",
       "      <td>High spender</td>\n",
       "      <td>7.640625</td>\n",
       "      <td>Frequent customer</td>\n",
       "      <td>Male</td>\n",
       "      <td>Hawaii</td>\n",
       "      <td>25</td>\n",
       "      <td>5/26/2017</td>\n",
       "      <td>0</td>\n",
       "      <td>single</td>\n",
       "      <td>53755</td>\n",
       "      <td>both</td>\n",
       "      <td>West</td>\n",
       "      <td>G1 up to 39</td>\n",
       "      <td>050-74k</td>\n",
       "      <td>non parent</td>\n",
       "    </tr>\n",
       "    <tr>\n",
       "      <th>32399703</th>\n",
       "      <td>2738626</td>\n",
       "      <td>106143</td>\n",
       "      <td>2</td>\n",
       "      <td>3</td>\n",
       "      <td>17</td>\n",
       "      <td>8.0</td>\n",
       "      <td>Repeat Customer</td>\n",
       "      <td>19675</td>\n",
       "      <td>1</td>\n",
       "      <td>Organic Raspberry Black Tea</td>\n",
       "      <td>94</td>\n",
       "      <td>7</td>\n",
       "      <td>10.703125</td>\n",
       "      <td>Mid-range product</td>\n",
       "      <td>Slowest days</td>\n",
       "      <td>Average orders</td>\n",
       "      <td>26</td>\n",
       "      <td>Regular customer</td>\n",
       "      <td>10.703125</td>\n",
       "      <td>High spender</td>\n",
       "      <td>7.640625</td>\n",
       "      <td>Frequent customer</td>\n",
       "      <td>Male</td>\n",
       "      <td>Hawaii</td>\n",
       "      <td>25</td>\n",
       "      <td>5/26/2017</td>\n",
       "      <td>0</td>\n",
       "      <td>single</td>\n",
       "      <td>53755</td>\n",
       "      <td>both</td>\n",
       "      <td>West</td>\n",
       "      <td>G1 up to 39</td>\n",
       "      <td>050-74k</td>\n",
       "      <td>non parent</td>\n",
       "    </tr>\n",
       "    <tr>\n",
       "      <th>32399704</th>\n",
       "      <td>218446</td>\n",
       "      <td>106143</td>\n",
       "      <td>3</td>\n",
       "      <td>4</td>\n",
       "      <td>0</td>\n",
       "      <td>8.0</td>\n",
       "      <td>Repeat Customer</td>\n",
       "      <td>19675</td>\n",
       "      <td>1</td>\n",
       "      <td>Organic Raspberry Black Tea</td>\n",
       "      <td>94</td>\n",
       "      <td>7</td>\n",
       "      <td>10.703125</td>\n",
       "      <td>Mid-range product</td>\n",
       "      <td>Slowest days</td>\n",
       "      <td>Fewest orders</td>\n",
       "      <td>26</td>\n",
       "      <td>Regular customer</td>\n",
       "      <td>10.703125</td>\n",
       "      <td>High spender</td>\n",
       "      <td>7.640625</td>\n",
       "      <td>Frequent customer</td>\n",
       "      <td>Male</td>\n",
       "      <td>Hawaii</td>\n",
       "      <td>25</td>\n",
       "      <td>5/26/2017</td>\n",
       "      <td>0</td>\n",
       "      <td>single</td>\n",
       "      <td>53755</td>\n",
       "      <td>both</td>\n",
       "      <td>West</td>\n",
       "      <td>G1 up to 39</td>\n",
       "      <td>050-74k</td>\n",
       "      <td>non parent</td>\n",
       "    </tr>\n",
       "    <tr>\n",
       "      <th>32399705</th>\n",
       "      <td>2645700</td>\n",
       "      <td>106143</td>\n",
       "      <td>4</td>\n",
       "      <td>3</td>\n",
       "      <td>21</td>\n",
       "      <td>6.0</td>\n",
       "      <td>Repeat Customer</td>\n",
       "      <td>19675</td>\n",
       "      <td>1</td>\n",
       "      <td>Organic Raspberry Black Tea</td>\n",
       "      <td>94</td>\n",
       "      <td>7</td>\n",
       "      <td>10.703125</td>\n",
       "      <td>Mid-range product</td>\n",
       "      <td>Slowest days</td>\n",
       "      <td>Average orders</td>\n",
       "      <td>26</td>\n",
       "      <td>Regular customer</td>\n",
       "      <td>10.703125</td>\n",
       "      <td>High spender</td>\n",
       "      <td>7.640625</td>\n",
       "      <td>Frequent customer</td>\n",
       "      <td>Male</td>\n",
       "      <td>Hawaii</td>\n",
       "      <td>25</td>\n",
       "      <td>5/26/2017</td>\n",
       "      <td>0</td>\n",
       "      <td>single</td>\n",
       "      <td>53755</td>\n",
       "      <td>both</td>\n",
       "      <td>West</td>\n",
       "      <td>G1 up to 39</td>\n",
       "      <td>050-74k</td>\n",
       "      <td>non parent</td>\n",
       "    </tr>\n",
       "    <tr>\n",
       "      <th>32399706</th>\n",
       "      <td>42576</td>\n",
       "      <td>106143</td>\n",
       "      <td>5</td>\n",
       "      <td>3</td>\n",
       "      <td>22</td>\n",
       "      <td>7.0</td>\n",
       "      <td>Repeat Customer</td>\n",
       "      <td>19675</td>\n",
       "      <td>1</td>\n",
       "      <td>Organic Raspberry Black Tea</td>\n",
       "      <td>94</td>\n",
       "      <td>7</td>\n",
       "      <td>10.703125</td>\n",
       "      <td>Mid-range product</td>\n",
       "      <td>Slowest days</td>\n",
       "      <td>Average orders</td>\n",
       "      <td>26</td>\n",
       "      <td>Regular customer</td>\n",
       "      <td>10.703125</td>\n",
       "      <td>High spender</td>\n",
       "      <td>7.640625</td>\n",
       "      <td>Frequent customer</td>\n",
       "      <td>Male</td>\n",
       "      <td>Hawaii</td>\n",
       "      <td>25</td>\n",
       "      <td>5/26/2017</td>\n",
       "      <td>0</td>\n",
       "      <td>single</td>\n",
       "      <td>53755</td>\n",
       "      <td>both</td>\n",
       "      <td>West</td>\n",
       "      <td>G1 up to 39</td>\n",
       "      <td>050-74k</td>\n",
       "      <td>non parent</td>\n",
       "    </tr>\n",
       "    <tr>\n",
       "      <th>32399707</th>\n",
       "      <td>1053604</td>\n",
       "      <td>106143</td>\n",
       "      <td>6</td>\n",
       "      <td>1</td>\n",
       "      <td>20</td>\n",
       "      <td>5.0</td>\n",
       "      <td>Repeat Customer</td>\n",
       "      <td>19675</td>\n",
       "      <td>1</td>\n",
       "      <td>Organic Raspberry Black Tea</td>\n",
       "      <td>94</td>\n",
       "      <td>7</td>\n",
       "      <td>10.703125</td>\n",
       "      <td>Mid-range product</td>\n",
       "      <td>Busiest days</td>\n",
       "      <td>Average orders</td>\n",
       "      <td>26</td>\n",
       "      <td>Regular customer</td>\n",
       "      <td>10.703125</td>\n",
       "      <td>High spender</td>\n",
       "      <td>7.640625</td>\n",
       "      <td>Frequent customer</td>\n",
       "      <td>Male</td>\n",
       "      <td>Hawaii</td>\n",
       "      <td>25</td>\n",
       "      <td>5/26/2017</td>\n",
       "      <td>0</td>\n",
       "      <td>single</td>\n",
       "      <td>53755</td>\n",
       "      <td>both</td>\n",
       "      <td>West</td>\n",
       "      <td>G1 up to 39</td>\n",
       "      <td>050-74k</td>\n",
       "      <td>non parent</td>\n",
       "    </tr>\n",
       "    <tr>\n",
       "      <th>32399708</th>\n",
       "      <td>2409631</td>\n",
       "      <td>106143</td>\n",
       "      <td>7</td>\n",
       "      <td>1</td>\n",
       "      <td>0</td>\n",
       "      <td>14.0</td>\n",
       "      <td>Repeat Customer</td>\n",
       "      <td>19675</td>\n",
       "      <td>1</td>\n",
       "      <td>Organic Raspberry Black Tea</td>\n",
       "      <td>94</td>\n",
       "      <td>7</td>\n",
       "      <td>10.703125</td>\n",
       "      <td>Mid-range product</td>\n",
       "      <td>Busiest days</td>\n",
       "      <td>Fewest orders</td>\n",
       "      <td>26</td>\n",
       "      <td>Regular customer</td>\n",
       "      <td>10.703125</td>\n",
       "      <td>High spender</td>\n",
       "      <td>7.640625</td>\n",
       "      <td>Frequent customer</td>\n",
       "      <td>Male</td>\n",
       "      <td>Hawaii</td>\n",
       "      <td>25</td>\n",
       "      <td>5/26/2017</td>\n",
       "      <td>0</td>\n",
       "      <td>single</td>\n",
       "      <td>53755</td>\n",
       "      <td>both</td>\n",
       "      <td>West</td>\n",
       "      <td>G1 up to 39</td>\n",
       "      <td>050-74k</td>\n",
       "      <td>non parent</td>\n",
       "    </tr>\n",
       "    <tr>\n",
       "      <th>32399709</th>\n",
       "      <td>1943329</td>\n",
       "      <td>106143</td>\n",
       "      <td>8</td>\n",
       "      <td>1</td>\n",
       "      <td>1</td>\n",
       "      <td>7.0</td>\n",
       "      <td>Repeat Customer</td>\n",
       "      <td>19675</td>\n",
       "      <td>1</td>\n",
       "      <td>Organic Raspberry Black Tea</td>\n",
       "      <td>94</td>\n",
       "      <td>7</td>\n",
       "      <td>10.703125</td>\n",
       "      <td>Mid-range product</td>\n",
       "      <td>Busiest days</td>\n",
       "      <td>Fewest orders</td>\n",
       "      <td>26</td>\n",
       "      <td>Regular customer</td>\n",
       "      <td>10.703125</td>\n",
       "      <td>High spender</td>\n",
       "      <td>7.640625</td>\n",
       "      <td>Frequent customer</td>\n",
       "      <td>Male</td>\n",
       "      <td>Hawaii</td>\n",
       "      <td>25</td>\n",
       "      <td>5/26/2017</td>\n",
       "      <td>0</td>\n",
       "      <td>single</td>\n",
       "      <td>53755</td>\n",
       "      <td>both</td>\n",
       "      <td>West</td>\n",
       "      <td>G1 up to 39</td>\n",
       "      <td>050-74k</td>\n",
       "      <td>non parent</td>\n",
       "    </tr>\n",
       "    <tr>\n",
       "      <th>32399710</th>\n",
       "      <td>477467</td>\n",
       "      <td>106143</td>\n",
       "      <td>9</td>\n",
       "      <td>5</td>\n",
       "      <td>2</td>\n",
       "      <td>4.0</td>\n",
       "      <td>Repeat Customer</td>\n",
       "      <td>19675</td>\n",
       "      <td>1</td>\n",
       "      <td>Organic Raspberry Black Tea</td>\n",
       "      <td>94</td>\n",
       "      <td>7</td>\n",
       "      <td>10.703125</td>\n",
       "      <td>Mid-range product</td>\n",
       "      <td>Regularly busy</td>\n",
       "      <td>Fewest orders</td>\n",
       "      <td>26</td>\n",
       "      <td>Regular customer</td>\n",
       "      <td>10.703125</td>\n",
       "      <td>High spender</td>\n",
       "      <td>7.640625</td>\n",
       "      <td>Frequent customer</td>\n",
       "      <td>Male</td>\n",
       "      <td>Hawaii</td>\n",
       "      <td>25</td>\n",
       "      <td>5/26/2017</td>\n",
       "      <td>0</td>\n",
       "      <td>single</td>\n",
       "      <td>53755</td>\n",
       "      <td>both</td>\n",
       "      <td>West</td>\n",
       "      <td>G1 up to 39</td>\n",
       "      <td>050-74k</td>\n",
       "      <td>non parent</td>\n",
       "    </tr>\n",
       "    <tr>\n",
       "      <th>32399711</th>\n",
       "      <td>2835422</td>\n",
       "      <td>106143</td>\n",
       "      <td>10</td>\n",
       "      <td>2</td>\n",
       "      <td>11</td>\n",
       "      <td>11.0</td>\n",
       "      <td>Repeat Customer</td>\n",
       "      <td>19675</td>\n",
       "      <td>1</td>\n",
       "      <td>Organic Raspberry Black Tea</td>\n",
       "      <td>94</td>\n",
       "      <td>7</td>\n",
       "      <td>10.703125</td>\n",
       "      <td>Mid-range product</td>\n",
       "      <td>Regularly busy</td>\n",
       "      <td>Most orders</td>\n",
       "      <td>26</td>\n",
       "      <td>Regular customer</td>\n",
       "      <td>10.703125</td>\n",
       "      <td>High spender</td>\n",
       "      <td>7.640625</td>\n",
       "      <td>Frequent customer</td>\n",
       "      <td>Male</td>\n",
       "      <td>Hawaii</td>\n",
       "      <td>25</td>\n",
       "      <td>5/26/2017</td>\n",
       "      <td>0</td>\n",
       "      <td>single</td>\n",
       "      <td>53755</td>\n",
       "      <td>both</td>\n",
       "      <td>West</td>\n",
       "      <td>G1 up to 39</td>\n",
       "      <td>050-74k</td>\n",
       "      <td>non parent</td>\n",
       "    </tr>\n",
       "    <tr>\n",
       "      <th>32399712</th>\n",
       "      <td>634152</td>\n",
       "      <td>106143</td>\n",
       "      <td>11</td>\n",
       "      <td>4</td>\n",
       "      <td>0</td>\n",
       "      <td>16.0</td>\n",
       "      <td>Repeat Customer</td>\n",
       "      <td>19675</td>\n",
       "      <td>1</td>\n",
       "      <td>Organic Raspberry Black Tea</td>\n",
       "      <td>94</td>\n",
       "      <td>7</td>\n",
       "      <td>10.703125</td>\n",
       "      <td>Mid-range product</td>\n",
       "      <td>Slowest days</td>\n",
       "      <td>Fewest orders</td>\n",
       "      <td>26</td>\n",
       "      <td>Regular customer</td>\n",
       "      <td>10.703125</td>\n",
       "      <td>High spender</td>\n",
       "      <td>7.640625</td>\n",
       "      <td>Frequent customer</td>\n",
       "      <td>Male</td>\n",
       "      <td>Hawaii</td>\n",
       "      <td>25</td>\n",
       "      <td>5/26/2017</td>\n",
       "      <td>0</td>\n",
       "      <td>single</td>\n",
       "      <td>53755</td>\n",
       "      <td>both</td>\n",
       "      <td>West</td>\n",
       "      <td>G1 up to 39</td>\n",
       "      <td>050-74k</td>\n",
       "      <td>non parent</td>\n",
       "    </tr>\n",
       "    <tr>\n",
       "      <th>32399713</th>\n",
       "      <td>1977554</td>\n",
       "      <td>106143</td>\n",
       "      <td>12</td>\n",
       "      <td>3</td>\n",
       "      <td>14</td>\n",
       "      <td>6.0</td>\n",
       "      <td>Repeat Customer</td>\n",
       "      <td>19675</td>\n",
       "      <td>1</td>\n",
       "      <td>Organic Raspberry Black Tea</td>\n",
       "      <td>94</td>\n",
       "      <td>7</td>\n",
       "      <td>10.703125</td>\n",
       "      <td>Mid-range product</td>\n",
       "      <td>Slowest days</td>\n",
       "      <td>Most orders</td>\n",
       "      <td>26</td>\n",
       "      <td>Regular customer</td>\n",
       "      <td>10.703125</td>\n",
       "      <td>High spender</td>\n",
       "      <td>7.640625</td>\n",
       "      <td>Frequent customer</td>\n",
       "      <td>Male</td>\n",
       "      <td>Hawaii</td>\n",
       "      <td>25</td>\n",
       "      <td>5/26/2017</td>\n",
       "      <td>0</td>\n",
       "      <td>single</td>\n",
       "      <td>53755</td>\n",
       "      <td>both</td>\n",
       "      <td>West</td>\n",
       "      <td>G1 up to 39</td>\n",
       "      <td>050-74k</td>\n",
       "      <td>non parent</td>\n",
       "    </tr>\n",
       "    <tr>\n",
       "      <th>32399714</th>\n",
       "      <td>1806098</td>\n",
       "      <td>106143</td>\n",
       "      <td>13</td>\n",
       "      <td>2</td>\n",
       "      <td>12</td>\n",
       "      <td>6.0</td>\n",
       "      <td>Repeat Customer</td>\n",
       "      <td>19675</td>\n",
       "      <td>1</td>\n",
       "      <td>Organic Raspberry Black Tea</td>\n",
       "      <td>94</td>\n",
       "      <td>7</td>\n",
       "      <td>10.703125</td>\n",
       "      <td>Mid-range product</td>\n",
       "      <td>Regularly busy</td>\n",
       "      <td>Most orders</td>\n",
       "      <td>26</td>\n",
       "      <td>Regular customer</td>\n",
       "      <td>10.703125</td>\n",
       "      <td>High spender</td>\n",
       "      <td>7.640625</td>\n",
       "      <td>Frequent customer</td>\n",
       "      <td>Male</td>\n",
       "      <td>Hawaii</td>\n",
       "      <td>25</td>\n",
       "      <td>5/26/2017</td>\n",
       "      <td>0</td>\n",
       "      <td>single</td>\n",
       "      <td>53755</td>\n",
       "      <td>both</td>\n",
       "      <td>West</td>\n",
       "      <td>G1 up to 39</td>\n",
       "      <td>050-74k</td>\n",
       "      <td>non parent</td>\n",
       "    </tr>\n",
       "    <tr>\n",
       "      <th>32399715</th>\n",
       "      <td>131426</td>\n",
       "      <td>106143</td>\n",
       "      <td>14</td>\n",
       "      <td>6</td>\n",
       "      <td>3</td>\n",
       "      <td>4.0</td>\n",
       "      <td>Repeat Customer</td>\n",
       "      <td>19675</td>\n",
       "      <td>1</td>\n",
       "      <td>Organic Raspberry Black Tea</td>\n",
       "      <td>94</td>\n",
       "      <td>7</td>\n",
       "      <td>10.703125</td>\n",
       "      <td>Mid-range product</td>\n",
       "      <td>Regularly busy</td>\n",
       "      <td>Fewest orders</td>\n",
       "      <td>26</td>\n",
       "      <td>Regular customer</td>\n",
       "      <td>10.703125</td>\n",
       "      <td>High spender</td>\n",
       "      <td>7.640625</td>\n",
       "      <td>Frequent customer</td>\n",
       "      <td>Male</td>\n",
       "      <td>Hawaii</td>\n",
       "      <td>25</td>\n",
       "      <td>5/26/2017</td>\n",
       "      <td>0</td>\n",
       "      <td>single</td>\n",
       "      <td>53755</td>\n",
       "      <td>both</td>\n",
       "      <td>West</td>\n",
       "      <td>G1 up to 39</td>\n",
       "      <td>050-74k</td>\n",
       "      <td>non parent</td>\n",
       "    </tr>\n",
       "    <tr>\n",
       "      <th>32399716</th>\n",
       "      <td>2267896</td>\n",
       "      <td>106143</td>\n",
       "      <td>15</td>\n",
       "      <td>0</td>\n",
       "      <td>1</td>\n",
       "      <td>8.0</td>\n",
       "      <td>Repeat Customer</td>\n",
       "      <td>19675</td>\n",
       "      <td>1</td>\n",
       "      <td>Organic Raspberry Black Tea</td>\n",
       "      <td>94</td>\n",
       "      <td>7</td>\n",
       "      <td>10.703125</td>\n",
       "      <td>Mid-range product</td>\n",
       "      <td>Busiest days</td>\n",
       "      <td>Fewest orders</td>\n",
       "      <td>26</td>\n",
       "      <td>Regular customer</td>\n",
       "      <td>10.703125</td>\n",
       "      <td>High spender</td>\n",
       "      <td>7.640625</td>\n",
       "      <td>Frequent customer</td>\n",
       "      <td>Male</td>\n",
       "      <td>Hawaii</td>\n",
       "      <td>25</td>\n",
       "      <td>5/26/2017</td>\n",
       "      <td>0</td>\n",
       "      <td>single</td>\n",
       "      <td>53755</td>\n",
       "      <td>both</td>\n",
       "      <td>West</td>\n",
       "      <td>G1 up to 39</td>\n",
       "      <td>050-74k</td>\n",
       "      <td>non parent</td>\n",
       "    </tr>\n",
       "    <tr>\n",
       "      <th>32399717</th>\n",
       "      <td>1987169</td>\n",
       "      <td>106143</td>\n",
       "      <td>16</td>\n",
       "      <td>6</td>\n",
       "      <td>21</td>\n",
       "      <td>6.0</td>\n",
       "      <td>Repeat Customer</td>\n",
       "      <td>19675</td>\n",
       "      <td>1</td>\n",
       "      <td>Organic Raspberry Black Tea</td>\n",
       "      <td>94</td>\n",
       "      <td>7</td>\n",
       "      <td>10.703125</td>\n",
       "      <td>Mid-range product</td>\n",
       "      <td>Regularly busy</td>\n",
       "      <td>Average orders</td>\n",
       "      <td>26</td>\n",
       "      <td>Regular customer</td>\n",
       "      <td>10.703125</td>\n",
       "      <td>High spender</td>\n",
       "      <td>7.640625</td>\n",
       "      <td>Frequent customer</td>\n",
       "      <td>Male</td>\n",
       "      <td>Hawaii</td>\n",
       "      <td>25</td>\n",
       "      <td>5/26/2017</td>\n",
       "      <td>0</td>\n",
       "      <td>single</td>\n",
       "      <td>53755</td>\n",
       "      <td>both</td>\n",
       "      <td>West</td>\n",
       "      <td>G1 up to 39</td>\n",
       "      <td>050-74k</td>\n",
       "      <td>non parent</td>\n",
       "    </tr>\n",
       "    <tr>\n",
       "      <th>32399718</th>\n",
       "      <td>3143166</td>\n",
       "      <td>106143</td>\n",
       "      <td>17</td>\n",
       "      <td>0</td>\n",
       "      <td>8</td>\n",
       "      <td>15.0</td>\n",
       "      <td>Repeat Customer</td>\n",
       "      <td>19675</td>\n",
       "      <td>1</td>\n",
       "      <td>Organic Raspberry Black Tea</td>\n",
       "      <td>94</td>\n",
       "      <td>7</td>\n",
       "      <td>10.703125</td>\n",
       "      <td>Mid-range product</td>\n",
       "      <td>Busiest days</td>\n",
       "      <td>Average orders</td>\n",
       "      <td>26</td>\n",
       "      <td>Regular customer</td>\n",
       "      <td>10.703125</td>\n",
       "      <td>High spender</td>\n",
       "      <td>7.640625</td>\n",
       "      <td>Frequent customer</td>\n",
       "      <td>Male</td>\n",
       "      <td>Hawaii</td>\n",
       "      <td>25</td>\n",
       "      <td>5/26/2017</td>\n",
       "      <td>0</td>\n",
       "      <td>single</td>\n",
       "      <td>53755</td>\n",
       "      <td>both</td>\n",
       "      <td>West</td>\n",
       "      <td>G1 up to 39</td>\n",
       "      <td>050-74k</td>\n",
       "      <td>non parent</td>\n",
       "    </tr>\n",
       "    <tr>\n",
       "      <th>32399719</th>\n",
       "      <td>3094081</td>\n",
       "      <td>106143</td>\n",
       "      <td>18</td>\n",
       "      <td>4</td>\n",
       "      <td>17</td>\n",
       "      <td>11.0</td>\n",
       "      <td>Repeat Customer</td>\n",
       "      <td>19675</td>\n",
       "      <td>1</td>\n",
       "      <td>Organic Raspberry Black Tea</td>\n",
       "      <td>94</td>\n",
       "      <td>7</td>\n",
       "      <td>10.703125</td>\n",
       "      <td>Mid-range product</td>\n",
       "      <td>Slowest days</td>\n",
       "      <td>Average orders</td>\n",
       "      <td>26</td>\n",
       "      <td>Regular customer</td>\n",
       "      <td>10.703125</td>\n",
       "      <td>High spender</td>\n",
       "      <td>7.640625</td>\n",
       "      <td>Frequent customer</td>\n",
       "      <td>Male</td>\n",
       "      <td>Hawaii</td>\n",
       "      <td>25</td>\n",
       "      <td>5/26/2017</td>\n",
       "      <td>0</td>\n",
       "      <td>single</td>\n",
       "      <td>53755</td>\n",
       "      <td>both</td>\n",
       "      <td>West</td>\n",
       "      <td>G1 up to 39</td>\n",
       "      <td>050-74k</td>\n",
       "      <td>non parent</td>\n",
       "    </tr>\n",
       "    <tr>\n",
       "      <th>32399720</th>\n",
       "      <td>405982</td>\n",
       "      <td>106143</td>\n",
       "      <td>19</td>\n",
       "      <td>3</td>\n",
       "      <td>18</td>\n",
       "      <td>6.0</td>\n",
       "      <td>Repeat Customer</td>\n",
       "      <td>19675</td>\n",
       "      <td>1</td>\n",
       "      <td>Organic Raspberry Black Tea</td>\n",
       "      <td>94</td>\n",
       "      <td>7</td>\n",
       "      <td>10.703125</td>\n",
       "      <td>Mid-range product</td>\n",
       "      <td>Slowest days</td>\n",
       "      <td>Average orders</td>\n",
       "      <td>26</td>\n",
       "      <td>Regular customer</td>\n",
       "      <td>10.703125</td>\n",
       "      <td>High spender</td>\n",
       "      <td>7.640625</td>\n",
       "      <td>Frequent customer</td>\n",
       "      <td>Male</td>\n",
       "      <td>Hawaii</td>\n",
       "      <td>25</td>\n",
       "      <td>5/26/2017</td>\n",
       "      <td>0</td>\n",
       "      <td>single</td>\n",
       "      <td>53755</td>\n",
       "      <td>both</td>\n",
       "      <td>West</td>\n",
       "      <td>G1 up to 39</td>\n",
       "      <td>050-74k</td>\n",
       "      <td>non parent</td>\n",
       "    </tr>\n",
       "    <tr>\n",
       "      <th>32399721</th>\n",
       "      <td>3102310</td>\n",
       "      <td>106143</td>\n",
       "      <td>20</td>\n",
       "      <td>3</td>\n",
       "      <td>16</td>\n",
       "      <td>7.0</td>\n",
       "      <td>Repeat Customer</td>\n",
       "      <td>19675</td>\n",
       "      <td>1</td>\n",
       "      <td>Organic Raspberry Black Tea</td>\n",
       "      <td>94</td>\n",
       "      <td>7</td>\n",
       "      <td>10.703125</td>\n",
       "      <td>Mid-range product</td>\n",
       "      <td>Slowest days</td>\n",
       "      <td>Most orders</td>\n",
       "      <td>26</td>\n",
       "      <td>Regular customer</td>\n",
       "      <td>10.703125</td>\n",
       "      <td>High spender</td>\n",
       "      <td>7.640625</td>\n",
       "      <td>Frequent customer</td>\n",
       "      <td>Male</td>\n",
       "      <td>Hawaii</td>\n",
       "      <td>25</td>\n",
       "      <td>5/26/2017</td>\n",
       "      <td>0</td>\n",
       "      <td>single</td>\n",
       "      <td>53755</td>\n",
       "      <td>both</td>\n",
       "      <td>West</td>\n",
       "      <td>G1 up to 39</td>\n",
       "      <td>050-74k</td>\n",
       "      <td>non parent</td>\n",
       "    </tr>\n",
       "    <tr>\n",
       "      <th>32399722</th>\n",
       "      <td>1539810</td>\n",
       "      <td>106143</td>\n",
       "      <td>21</td>\n",
       "      <td>1</td>\n",
       "      <td>18</td>\n",
       "      <td>5.0</td>\n",
       "      <td>Repeat Customer</td>\n",
       "      <td>19675</td>\n",
       "      <td>1</td>\n",
       "      <td>Organic Raspberry Black Tea</td>\n",
       "      <td>94</td>\n",
       "      <td>7</td>\n",
       "      <td>10.703125</td>\n",
       "      <td>Mid-range product</td>\n",
       "      <td>Busiest days</td>\n",
       "      <td>Average orders</td>\n",
       "      <td>26</td>\n",
       "      <td>Regular customer</td>\n",
       "      <td>10.703125</td>\n",
       "      <td>High spender</td>\n",
       "      <td>7.640625</td>\n",
       "      <td>Frequent customer</td>\n",
       "      <td>Male</td>\n",
       "      <td>Hawaii</td>\n",
       "      <td>25</td>\n",
       "      <td>5/26/2017</td>\n",
       "      <td>0</td>\n",
       "      <td>single</td>\n",
       "      <td>53755</td>\n",
       "      <td>both</td>\n",
       "      <td>West</td>\n",
       "      <td>G1 up to 39</td>\n",
       "      <td>050-74k</td>\n",
       "      <td>non parent</td>\n",
       "    </tr>\n",
       "    <tr>\n",
       "      <th>32399723</th>\n",
       "      <td>3308056</td>\n",
       "      <td>106143</td>\n",
       "      <td>22</td>\n",
       "      <td>4</td>\n",
       "      <td>20</td>\n",
       "      <td>10.0</td>\n",
       "      <td>Repeat Customer</td>\n",
       "      <td>19675</td>\n",
       "      <td>1</td>\n",
       "      <td>Organic Raspberry Black Tea</td>\n",
       "      <td>94</td>\n",
       "      <td>7</td>\n",
       "      <td>10.703125</td>\n",
       "      <td>Mid-range product</td>\n",
       "      <td>Slowest days</td>\n",
       "      <td>Average orders</td>\n",
       "      <td>26</td>\n",
       "      <td>Regular customer</td>\n",
       "      <td>10.703125</td>\n",
       "      <td>High spender</td>\n",
       "      <td>7.640625</td>\n",
       "      <td>Frequent customer</td>\n",
       "      <td>Male</td>\n",
       "      <td>Hawaii</td>\n",
       "      <td>25</td>\n",
       "      <td>5/26/2017</td>\n",
       "      <td>0</td>\n",
       "      <td>single</td>\n",
       "      <td>53755</td>\n",
       "      <td>both</td>\n",
       "      <td>West</td>\n",
       "      <td>G1 up to 39</td>\n",
       "      <td>050-74k</td>\n",
       "      <td>non parent</td>\n",
       "    </tr>\n",
       "    <tr>\n",
       "      <th>32399724</th>\n",
       "      <td>2988973</td>\n",
       "      <td>106143</td>\n",
       "      <td>23</td>\n",
       "      <td>2</td>\n",
       "      <td>22</td>\n",
       "      <td>5.0</td>\n",
       "      <td>Repeat Customer</td>\n",
       "      <td>19675</td>\n",
       "      <td>1</td>\n",
       "      <td>Organic Raspberry Black Tea</td>\n",
       "      <td>94</td>\n",
       "      <td>7</td>\n",
       "      <td>10.703125</td>\n",
       "      <td>Mid-range product</td>\n",
       "      <td>Regularly busy</td>\n",
       "      <td>Average orders</td>\n",
       "      <td>26</td>\n",
       "      <td>Regular customer</td>\n",
       "      <td>10.703125</td>\n",
       "      <td>High spender</td>\n",
       "      <td>7.640625</td>\n",
       "      <td>Frequent customer</td>\n",
       "      <td>Male</td>\n",
       "      <td>Hawaii</td>\n",
       "      <td>25</td>\n",
       "      <td>5/26/2017</td>\n",
       "      <td>0</td>\n",
       "      <td>single</td>\n",
       "      <td>53755</td>\n",
       "      <td>both</td>\n",
       "      <td>West</td>\n",
       "      <td>G1 up to 39</td>\n",
       "      <td>050-74k</td>\n",
       "      <td>non parent</td>\n",
       "    </tr>\n",
       "    <tr>\n",
       "      <th>32399725</th>\n",
       "      <td>930</td>\n",
       "      <td>106143</td>\n",
       "      <td>24</td>\n",
       "      <td>6</td>\n",
       "      <td>12</td>\n",
       "      <td>4.0</td>\n",
       "      <td>Repeat Customer</td>\n",
       "      <td>19675</td>\n",
       "      <td>1</td>\n",
       "      <td>Organic Raspberry Black Tea</td>\n",
       "      <td>94</td>\n",
       "      <td>7</td>\n",
       "      <td>10.703125</td>\n",
       "      <td>Mid-range product</td>\n",
       "      <td>Regularly busy</td>\n",
       "      <td>Most orders</td>\n",
       "      <td>26</td>\n",
       "      <td>Regular customer</td>\n",
       "      <td>10.703125</td>\n",
       "      <td>High spender</td>\n",
       "      <td>7.640625</td>\n",
       "      <td>Frequent customer</td>\n",
       "      <td>Male</td>\n",
       "      <td>Hawaii</td>\n",
       "      <td>25</td>\n",
       "      <td>5/26/2017</td>\n",
       "      <td>0</td>\n",
       "      <td>single</td>\n",
       "      <td>53755</td>\n",
       "      <td>both</td>\n",
       "      <td>West</td>\n",
       "      <td>G1 up to 39</td>\n",
       "      <td>050-74k</td>\n",
       "      <td>non parent</td>\n",
       "    </tr>\n",
       "    <tr>\n",
       "      <th>32399726</th>\n",
       "      <td>467253</td>\n",
       "      <td>106143</td>\n",
       "      <td>25</td>\n",
       "      <td>6</td>\n",
       "      <td>16</td>\n",
       "      <td>7.0</td>\n",
       "      <td>Repeat Customer</td>\n",
       "      <td>19675</td>\n",
       "      <td>1</td>\n",
       "      <td>Organic Raspberry Black Tea</td>\n",
       "      <td>94</td>\n",
       "      <td>7</td>\n",
       "      <td>10.703125</td>\n",
       "      <td>Mid-range product</td>\n",
       "      <td>Regularly busy</td>\n",
       "      <td>Most orders</td>\n",
       "      <td>26</td>\n",
       "      <td>Regular customer</td>\n",
       "      <td>10.703125</td>\n",
       "      <td>High spender</td>\n",
       "      <td>7.640625</td>\n",
       "      <td>Frequent customer</td>\n",
       "      <td>Male</td>\n",
       "      <td>Hawaii</td>\n",
       "      <td>25</td>\n",
       "      <td>5/26/2017</td>\n",
       "      <td>0</td>\n",
       "      <td>single</td>\n",
       "      <td>53755</td>\n",
       "      <td>both</td>\n",
       "      <td>West</td>\n",
       "      <td>G1 up to 39</td>\n",
       "      <td>050-74k</td>\n",
       "      <td>non parent</td>\n",
       "    </tr>\n",
       "    <tr>\n",
       "      <th>32399727</th>\n",
       "      <td>156685</td>\n",
       "      <td>106143</td>\n",
       "      <td>26</td>\n",
       "      <td>4</td>\n",
       "      <td>23</td>\n",
       "      <td>5.0</td>\n",
       "      <td>Repeat Customer</td>\n",
       "      <td>19675</td>\n",
       "      <td>1</td>\n",
       "      <td>Organic Raspberry Black Tea</td>\n",
       "      <td>94</td>\n",
       "      <td>7</td>\n",
       "      <td>10.703125</td>\n",
       "      <td>Mid-range product</td>\n",
       "      <td>Slowest days</td>\n",
       "      <td>Average orders</td>\n",
       "      <td>26</td>\n",
       "      <td>Regular customer</td>\n",
       "      <td>10.703125</td>\n",
       "      <td>High spender</td>\n",
       "      <td>7.640625</td>\n",
       "      <td>Frequent customer</td>\n",
       "      <td>Male</td>\n",
       "      <td>Hawaii</td>\n",
       "      <td>25</td>\n",
       "      <td>5/26/2017</td>\n",
       "      <td>0</td>\n",
       "      <td>single</td>\n",
       "      <td>53755</td>\n",
       "      <td>both</td>\n",
       "      <td>West</td>\n",
       "      <td>G1 up to 39</td>\n",
       "      <td>050-74k</td>\n",
       "      <td>non parent</td>\n",
       "    </tr>\n",
       "    <tr>\n",
       "      <th>32399728</th>\n",
       "      <td>484769</td>\n",
       "      <td>66343</td>\n",
       "      <td>1</td>\n",
       "      <td>6</td>\n",
       "      <td>11</td>\n",
       "      <td>NaN</td>\n",
       "      <td>First Order</td>\n",
       "      <td>47210</td>\n",
       "      <td>0</td>\n",
       "      <td>Fresh Farmed Tilapia Fillet</td>\n",
       "      <td>15</td>\n",
       "      <td>12</td>\n",
       "      <td>8.101562</td>\n",
       "      <td>Mid-range product</td>\n",
       "      <td>Regularly busy</td>\n",
       "      <td>Most orders</td>\n",
       "      <td>4</td>\n",
       "      <td>New customer</td>\n",
       "      <td>8.101562</td>\n",
       "      <td>Low spender</td>\n",
       "      <td>26.328125</td>\n",
       "      <td>Non-frequent customer</td>\n",
       "      <td>Female</td>\n",
       "      <td>Tennessee</td>\n",
       "      <td>22</td>\n",
       "      <td>9/12/2017</td>\n",
       "      <td>3</td>\n",
       "      <td>married</td>\n",
       "      <td>46151</td>\n",
       "      <td>both</td>\n",
       "      <td>South</td>\n",
       "      <td>G1 up to 39</td>\n",
       "      <td>025-49k</td>\n",
       "      <td>parent</td>\n",
       "    </tr>\n",
       "    <tr>\n",
       "      <th>32399729</th>\n",
       "      <td>1561557</td>\n",
       "      <td>66343</td>\n",
       "      <td>2</td>\n",
       "      <td>1</td>\n",
       "      <td>11</td>\n",
       "      <td>30.0</td>\n",
       "      <td>Repeat Customer</td>\n",
       "      <td>47210</td>\n",
       "      <td>1</td>\n",
       "      <td>Fresh Farmed Tilapia Fillet</td>\n",
       "      <td>15</td>\n",
       "      <td>12</td>\n",
       "      <td>8.101562</td>\n",
       "      <td>Mid-range product</td>\n",
       "      <td>Busiest days</td>\n",
       "      <td>Most orders</td>\n",
       "      <td>4</td>\n",
       "      <td>New customer</td>\n",
       "      <td>8.101562</td>\n",
       "      <td>Low spender</td>\n",
       "      <td>26.328125</td>\n",
       "      <td>Non-frequent customer</td>\n",
       "      <td>Female</td>\n",
       "      <td>Tennessee</td>\n",
       "      <td>22</td>\n",
       "      <td>9/12/2017</td>\n",
       "      <td>3</td>\n",
       "      <td>married</td>\n",
       "      <td>46151</td>\n",
       "      <td>both</td>\n",
       "      <td>South</td>\n",
       "      <td>G1 up to 39</td>\n",
       "      <td>025-49k</td>\n",
       "      <td>parent</td>\n",
       "    </tr>\n",
       "    <tr>\n",
       "      <th>32399730</th>\n",
       "      <td>276317</td>\n",
       "      <td>66343</td>\n",
       "      <td>3</td>\n",
       "      <td>6</td>\n",
       "      <td>15</td>\n",
       "      <td>19.0</td>\n",
       "      <td>Repeat Customer</td>\n",
       "      <td>47210</td>\n",
       "      <td>1</td>\n",
       "      <td>Fresh Farmed Tilapia Fillet</td>\n",
       "      <td>15</td>\n",
       "      <td>12</td>\n",
       "      <td>8.101562</td>\n",
       "      <td>Mid-range product</td>\n",
       "      <td>Regularly busy</td>\n",
       "      <td>Most orders</td>\n",
       "      <td>4</td>\n",
       "      <td>New customer</td>\n",
       "      <td>8.101562</td>\n",
       "      <td>Low spender</td>\n",
       "      <td>26.328125</td>\n",
       "      <td>Non-frequent customer</td>\n",
       "      <td>Female</td>\n",
       "      <td>Tennessee</td>\n",
       "      <td>22</td>\n",
       "      <td>9/12/2017</td>\n",
       "      <td>3</td>\n",
       "      <td>married</td>\n",
       "      <td>46151</td>\n",
       "      <td>both</td>\n",
       "      <td>South</td>\n",
       "      <td>G1 up to 39</td>\n",
       "      <td>025-49k</td>\n",
       "      <td>parent</td>\n",
       "    </tr>\n",
       "    <tr>\n",
       "      <th>32399731</th>\n",
       "      <td>2922475</td>\n",
       "      <td>66343</td>\n",
       "      <td>4</td>\n",
       "      <td>1</td>\n",
       "      <td>12</td>\n",
       "      <td>30.0</td>\n",
       "      <td>Repeat Customer</td>\n",
       "      <td>47210</td>\n",
       "      <td>1</td>\n",
       "      <td>Fresh Farmed Tilapia Fillet</td>\n",
       "      <td>15</td>\n",
       "      <td>12</td>\n",
       "      <td>8.101562</td>\n",
       "      <td>Mid-range product</td>\n",
       "      <td>Busiest days</td>\n",
       "      <td>Most orders</td>\n",
       "      <td>4</td>\n",
       "      <td>New customer</td>\n",
       "      <td>8.101562</td>\n",
       "      <td>Low spender</td>\n",
       "      <td>26.328125</td>\n",
       "      <td>Non-frequent customer</td>\n",
       "      <td>Female</td>\n",
       "      <td>Tennessee</td>\n",
       "      <td>22</td>\n",
       "      <td>9/12/2017</td>\n",
       "      <td>3</td>\n",
       "      <td>married</td>\n",
       "      <td>46151</td>\n",
       "      <td>both</td>\n",
       "      <td>South</td>\n",
       "      <td>G1 up to 39</td>\n",
       "      <td>025-49k</td>\n",
       "      <td>parent</td>\n",
       "    </tr>\n",
       "  </tbody>\n",
       "</table>\n",
       "</div>"
      ],
      "text/plain": [
       "         order_id user_id  order_number  orders_day_of_week  \\\n",
       "32399702   259165  106143             1                   2   \n",
       "32399703  2738626  106143             2                   3   \n",
       "32399704   218446  106143             3                   4   \n",
       "32399705  2645700  106143             4                   3   \n",
       "32399706    42576  106143             5                   3   \n",
       "32399707  1053604  106143             6                   1   \n",
       "32399708  2409631  106143             7                   1   \n",
       "32399709  1943329  106143             8                   1   \n",
       "32399710   477467  106143             9                   5   \n",
       "32399711  2835422  106143            10                   2   \n",
       "32399712   634152  106143            11                   4   \n",
       "32399713  1977554  106143            12                   3   \n",
       "32399714  1806098  106143            13                   2   \n",
       "32399715   131426  106143            14                   6   \n",
       "32399716  2267896  106143            15                   0   \n",
       "32399717  1987169  106143            16                   6   \n",
       "32399718  3143166  106143            17                   0   \n",
       "32399719  3094081  106143            18                   4   \n",
       "32399720   405982  106143            19                   3   \n",
       "32399721  3102310  106143            20                   3   \n",
       "32399722  1539810  106143            21                   1   \n",
       "32399723  3308056  106143            22                   4   \n",
       "32399724  2988973  106143            23                   2   \n",
       "32399725      930  106143            24                   6   \n",
       "32399726   467253  106143            25                   6   \n",
       "32399727   156685  106143            26                   4   \n",
       "32399728   484769   66343             1                   6   \n",
       "32399729  1561557   66343             2                   1   \n",
       "32399730   276317   66343             3                   6   \n",
       "32399731  2922475   66343             4                   1   \n",
       "\n",
       "          order_hour_of_day  days_since_prior_order      first_order  \\\n",
       "32399702                 21                     NaN      First Order   \n",
       "32399703                 17                     8.0  Repeat Customer   \n",
       "32399704                  0                     8.0  Repeat Customer   \n",
       "32399705                 21                     6.0  Repeat Customer   \n",
       "32399706                 22                     7.0  Repeat Customer   \n",
       "32399707                 20                     5.0  Repeat Customer   \n",
       "32399708                  0                    14.0  Repeat Customer   \n",
       "32399709                  1                     7.0  Repeat Customer   \n",
       "32399710                  2                     4.0  Repeat Customer   \n",
       "32399711                 11                    11.0  Repeat Customer   \n",
       "32399712                  0                    16.0  Repeat Customer   \n",
       "32399713                 14                     6.0  Repeat Customer   \n",
       "32399714                 12                     6.0  Repeat Customer   \n",
       "32399715                  3                     4.0  Repeat Customer   \n",
       "32399716                  1                     8.0  Repeat Customer   \n",
       "32399717                 21                     6.0  Repeat Customer   \n",
       "32399718                  8                    15.0  Repeat Customer   \n",
       "32399719                 17                    11.0  Repeat Customer   \n",
       "32399720                 18                     6.0  Repeat Customer   \n",
       "32399721                 16                     7.0  Repeat Customer   \n",
       "32399722                 18                     5.0  Repeat Customer   \n",
       "32399723                 20                    10.0  Repeat Customer   \n",
       "32399724                 22                     5.0  Repeat Customer   \n",
       "32399725                 12                     4.0  Repeat Customer   \n",
       "32399726                 16                     7.0  Repeat Customer   \n",
       "32399727                 23                     5.0  Repeat Customer   \n",
       "32399728                 11                     NaN      First Order   \n",
       "32399729                 11                    30.0  Repeat Customer   \n",
       "32399730                 15                    19.0  Repeat Customer   \n",
       "32399731                 12                    30.0  Repeat Customer   \n",
       "\n",
       "          product_id  reordered                 product_name  aisle_id  \\\n",
       "32399702       19675          0  Organic Raspberry Black Tea        94   \n",
       "32399703       19675          1  Organic Raspberry Black Tea        94   \n",
       "32399704       19675          1  Organic Raspberry Black Tea        94   \n",
       "32399705       19675          1  Organic Raspberry Black Tea        94   \n",
       "32399706       19675          1  Organic Raspberry Black Tea        94   \n",
       "32399707       19675          1  Organic Raspberry Black Tea        94   \n",
       "32399708       19675          1  Organic Raspberry Black Tea        94   \n",
       "32399709       19675          1  Organic Raspberry Black Tea        94   \n",
       "32399710       19675          1  Organic Raspberry Black Tea        94   \n",
       "32399711       19675          1  Organic Raspberry Black Tea        94   \n",
       "32399712       19675          1  Organic Raspberry Black Tea        94   \n",
       "32399713       19675          1  Organic Raspberry Black Tea        94   \n",
       "32399714       19675          1  Organic Raspberry Black Tea        94   \n",
       "32399715       19675          1  Organic Raspberry Black Tea        94   \n",
       "32399716       19675          1  Organic Raspberry Black Tea        94   \n",
       "32399717       19675          1  Organic Raspberry Black Tea        94   \n",
       "32399718       19675          1  Organic Raspberry Black Tea        94   \n",
       "32399719       19675          1  Organic Raspberry Black Tea        94   \n",
       "32399720       19675          1  Organic Raspberry Black Tea        94   \n",
       "32399721       19675          1  Organic Raspberry Black Tea        94   \n",
       "32399722       19675          1  Organic Raspberry Black Tea        94   \n",
       "32399723       19675          1  Organic Raspberry Black Tea        94   \n",
       "32399724       19675          1  Organic Raspberry Black Tea        94   \n",
       "32399725       19675          1  Organic Raspberry Black Tea        94   \n",
       "32399726       19675          1  Organic Raspberry Black Tea        94   \n",
       "32399727       19675          1  Organic Raspberry Black Tea        94   \n",
       "32399728       47210          0  Fresh Farmed Tilapia Fillet        15   \n",
       "32399729       47210          1  Fresh Farmed Tilapia Fillet        15   \n",
       "32399730       47210          1  Fresh Farmed Tilapia Fillet        15   \n",
       "32399731       47210          1  Fresh Farmed Tilapia Fillet        15   \n",
       "\n",
       "          department_id     prices    price_range_loc     busiest_day  \\\n",
       "32399702              7  10.703125  Mid-range product  Regularly busy   \n",
       "32399703              7  10.703125  Mid-range product    Slowest days   \n",
       "32399704              7  10.703125  Mid-range product    Slowest days   \n",
       "32399705              7  10.703125  Mid-range product    Slowest days   \n",
       "32399706              7  10.703125  Mid-range product    Slowest days   \n",
       "32399707              7  10.703125  Mid-range product    Busiest days   \n",
       "32399708              7  10.703125  Mid-range product    Busiest days   \n",
       "32399709              7  10.703125  Mid-range product    Busiest days   \n",
       "32399710              7  10.703125  Mid-range product  Regularly busy   \n",
       "32399711              7  10.703125  Mid-range product  Regularly busy   \n",
       "32399712              7  10.703125  Mid-range product    Slowest days   \n",
       "32399713              7  10.703125  Mid-range product    Slowest days   \n",
       "32399714              7  10.703125  Mid-range product  Regularly busy   \n",
       "32399715              7  10.703125  Mid-range product  Regularly busy   \n",
       "32399716              7  10.703125  Mid-range product    Busiest days   \n",
       "32399717              7  10.703125  Mid-range product  Regularly busy   \n",
       "32399718              7  10.703125  Mid-range product    Busiest days   \n",
       "32399719              7  10.703125  Mid-range product    Slowest days   \n",
       "32399720              7  10.703125  Mid-range product    Slowest days   \n",
       "32399721              7  10.703125  Mid-range product    Slowest days   \n",
       "32399722              7  10.703125  Mid-range product    Busiest days   \n",
       "32399723              7  10.703125  Mid-range product    Slowest days   \n",
       "32399724              7  10.703125  Mid-range product  Regularly busy   \n",
       "32399725              7  10.703125  Mid-range product  Regularly busy   \n",
       "32399726              7  10.703125  Mid-range product  Regularly busy   \n",
       "32399727              7  10.703125  Mid-range product    Slowest days   \n",
       "32399728             12   8.101562  Mid-range product  Regularly busy   \n",
       "32399729             12   8.101562  Mid-range product    Busiest days   \n",
       "32399730             12   8.101562  Mid-range product  Regularly busy   \n",
       "32399731             12   8.101562  Mid-range product    Busiest days   \n",
       "\n",
       "         busiest_period_of_day  max_order      loyalty_flag  spend_group  \\\n",
       "32399702        Average orders         26  Regular customer    10.703125   \n",
       "32399703        Average orders         26  Regular customer    10.703125   \n",
       "32399704         Fewest orders         26  Regular customer    10.703125   \n",
       "32399705        Average orders         26  Regular customer    10.703125   \n",
       "32399706        Average orders         26  Regular customer    10.703125   \n",
       "32399707        Average orders         26  Regular customer    10.703125   \n",
       "32399708         Fewest orders         26  Regular customer    10.703125   \n",
       "32399709         Fewest orders         26  Regular customer    10.703125   \n",
       "32399710         Fewest orders         26  Regular customer    10.703125   \n",
       "32399711           Most orders         26  Regular customer    10.703125   \n",
       "32399712         Fewest orders         26  Regular customer    10.703125   \n",
       "32399713           Most orders         26  Regular customer    10.703125   \n",
       "32399714           Most orders         26  Regular customer    10.703125   \n",
       "32399715         Fewest orders         26  Regular customer    10.703125   \n",
       "32399716         Fewest orders         26  Regular customer    10.703125   \n",
       "32399717        Average orders         26  Regular customer    10.703125   \n",
       "32399718        Average orders         26  Regular customer    10.703125   \n",
       "32399719        Average orders         26  Regular customer    10.703125   \n",
       "32399720        Average orders         26  Regular customer    10.703125   \n",
       "32399721           Most orders         26  Regular customer    10.703125   \n",
       "32399722        Average orders         26  Regular customer    10.703125   \n",
       "32399723        Average orders         26  Regular customer    10.703125   \n",
       "32399724        Average orders         26  Regular customer    10.703125   \n",
       "32399725           Most orders         26  Regular customer    10.703125   \n",
       "32399726           Most orders         26  Regular customer    10.703125   \n",
       "32399727        Average orders         26  Regular customer    10.703125   \n",
       "32399728           Most orders          4      New customer     8.101562   \n",
       "32399729           Most orders          4      New customer     8.101562   \n",
       "32399730           Most orders          4      New customer     8.101562   \n",
       "32399731           Most orders          4      New customer     8.101562   \n",
       "\n",
       "            spend_flag  days_since_last_order_median   order_frequency_flag  \\\n",
       "32399702  High spender                      7.640625      Frequent customer   \n",
       "32399703  High spender                      7.640625      Frequent customer   \n",
       "32399704  High spender                      7.640625      Frequent customer   \n",
       "32399705  High spender                      7.640625      Frequent customer   \n",
       "32399706  High spender                      7.640625      Frequent customer   \n",
       "32399707  High spender                      7.640625      Frequent customer   \n",
       "32399708  High spender                      7.640625      Frequent customer   \n",
       "32399709  High spender                      7.640625      Frequent customer   \n",
       "32399710  High spender                      7.640625      Frequent customer   \n",
       "32399711  High spender                      7.640625      Frequent customer   \n",
       "32399712  High spender                      7.640625      Frequent customer   \n",
       "32399713  High spender                      7.640625      Frequent customer   \n",
       "32399714  High spender                      7.640625      Frequent customer   \n",
       "32399715  High spender                      7.640625      Frequent customer   \n",
       "32399716  High spender                      7.640625      Frequent customer   \n",
       "32399717  High spender                      7.640625      Frequent customer   \n",
       "32399718  High spender                      7.640625      Frequent customer   \n",
       "32399719  High spender                      7.640625      Frequent customer   \n",
       "32399720  High spender                      7.640625      Frequent customer   \n",
       "32399721  High spender                      7.640625      Frequent customer   \n",
       "32399722  High spender                      7.640625      Frequent customer   \n",
       "32399723  High spender                      7.640625      Frequent customer   \n",
       "32399724  High spender                      7.640625      Frequent customer   \n",
       "32399725  High spender                      7.640625      Frequent customer   \n",
       "32399726  High spender                      7.640625      Frequent customer   \n",
       "32399727  High spender                      7.640625      Frequent customer   \n",
       "32399728   Low spender                     26.328125  Non-frequent customer   \n",
       "32399729   Low spender                     26.328125  Non-frequent customer   \n",
       "32399730   Low spender                     26.328125  Non-frequent customer   \n",
       "32399731   Low spender                     26.328125  Non-frequent customer   \n",
       "\n",
       "          gender      state  age date_joined  children f_status  income  \\\n",
       "32399702    Male     Hawaii   25   5/26/2017         0   single   53755   \n",
       "32399703    Male     Hawaii   25   5/26/2017         0   single   53755   \n",
       "32399704    Male     Hawaii   25   5/26/2017         0   single   53755   \n",
       "32399705    Male     Hawaii   25   5/26/2017         0   single   53755   \n",
       "32399706    Male     Hawaii   25   5/26/2017         0   single   53755   \n",
       "32399707    Male     Hawaii   25   5/26/2017         0   single   53755   \n",
       "32399708    Male     Hawaii   25   5/26/2017         0   single   53755   \n",
       "32399709    Male     Hawaii   25   5/26/2017         0   single   53755   \n",
       "32399710    Male     Hawaii   25   5/26/2017         0   single   53755   \n",
       "32399711    Male     Hawaii   25   5/26/2017         0   single   53755   \n",
       "32399712    Male     Hawaii   25   5/26/2017         0   single   53755   \n",
       "32399713    Male     Hawaii   25   5/26/2017         0   single   53755   \n",
       "32399714    Male     Hawaii   25   5/26/2017         0   single   53755   \n",
       "32399715    Male     Hawaii   25   5/26/2017         0   single   53755   \n",
       "32399716    Male     Hawaii   25   5/26/2017         0   single   53755   \n",
       "32399717    Male     Hawaii   25   5/26/2017         0   single   53755   \n",
       "32399718    Male     Hawaii   25   5/26/2017         0   single   53755   \n",
       "32399719    Male     Hawaii   25   5/26/2017         0   single   53755   \n",
       "32399720    Male     Hawaii   25   5/26/2017         0   single   53755   \n",
       "32399721    Male     Hawaii   25   5/26/2017         0   single   53755   \n",
       "32399722    Male     Hawaii   25   5/26/2017         0   single   53755   \n",
       "32399723    Male     Hawaii   25   5/26/2017         0   single   53755   \n",
       "32399724    Male     Hawaii   25   5/26/2017         0   single   53755   \n",
       "32399725    Male     Hawaii   25   5/26/2017         0   single   53755   \n",
       "32399726    Male     Hawaii   25   5/26/2017         0   single   53755   \n",
       "32399727    Male     Hawaii   25   5/26/2017         0   single   53755   \n",
       "32399728  Female  Tennessee   22   9/12/2017         3  married   46151   \n",
       "32399729  Female  Tennessee   22   9/12/2017         3  married   46151   \n",
       "32399730  Female  Tennessee   22   9/12/2017         3  married   46151   \n",
       "32399731  Female  Tennessee   22   9/12/2017         3  married   46151   \n",
       "\n",
       "         _merge region    age_group income_group parent_status  \n",
       "32399702   both   West  G1 up to 39      050-74k    non parent  \n",
       "32399703   both   West  G1 up to 39      050-74k    non parent  \n",
       "32399704   both   West  G1 up to 39      050-74k    non parent  \n",
       "32399705   both   West  G1 up to 39      050-74k    non parent  \n",
       "32399706   both   West  G1 up to 39      050-74k    non parent  \n",
       "32399707   both   West  G1 up to 39      050-74k    non parent  \n",
       "32399708   both   West  G1 up to 39      050-74k    non parent  \n",
       "32399709   both   West  G1 up to 39      050-74k    non parent  \n",
       "32399710   both   West  G1 up to 39      050-74k    non parent  \n",
       "32399711   both   West  G1 up to 39      050-74k    non parent  \n",
       "32399712   both   West  G1 up to 39      050-74k    non parent  \n",
       "32399713   both   West  G1 up to 39      050-74k    non parent  \n",
       "32399714   both   West  G1 up to 39      050-74k    non parent  \n",
       "32399715   both   West  G1 up to 39      050-74k    non parent  \n",
       "32399716   both   West  G1 up to 39      050-74k    non parent  \n",
       "32399717   both   West  G1 up to 39      050-74k    non parent  \n",
       "32399718   both   West  G1 up to 39      050-74k    non parent  \n",
       "32399719   both   West  G1 up to 39      050-74k    non parent  \n",
       "32399720   both   West  G1 up to 39      050-74k    non parent  \n",
       "32399721   both   West  G1 up to 39      050-74k    non parent  \n",
       "32399722   both   West  G1 up to 39      050-74k    non parent  \n",
       "32399723   both   West  G1 up to 39      050-74k    non parent  \n",
       "32399724   both   West  G1 up to 39      050-74k    non parent  \n",
       "32399725   both   West  G1 up to 39      050-74k    non parent  \n",
       "32399726   both   West  G1 up to 39      050-74k    non parent  \n",
       "32399727   both   West  G1 up to 39      050-74k    non parent  \n",
       "32399728   both  South  G1 up to 39      025-49k        parent  \n",
       "32399729   both  South  G1 up to 39      025-49k        parent  \n",
       "32399730   both  South  G1 up to 39      025-49k        parent  \n",
       "32399731   both  South  G1 up to 39      025-49k        parent  "
      ]
     },
     "execution_count": 41,
     "metadata": {},
     "output_type": "execute_result"
    }
   ],
   "source": [
    "#Final confirmation of the Column titles, and the data being displayed in them\n",
    "df10ex.tail(30)"
   ]
  },
  {
   "cell_type": "markdown",
   "id": "43579fef",
   "metadata": {},
   "source": [
    "### 9. Exporting the dataframes"
   ]
  },
  {
   "cell_type": "code",
   "execution_count": 43,
   "id": "36096996",
   "metadata": {},
   "outputs": [],
   "source": [
    "#Exporting current DF\n",
    "df10ex.to_pickle(os.path.join(path, '02 Data','Prepared Data', '4-10-5pkl'))"
   ]
  },
  {
   "cell_type": "code",
   "execution_count": 44,
   "id": "45716b70",
   "metadata": {},
   "outputs": [],
   "source": [
    "#Exporting current 'user' DF\n",
    "df10exuser.to_pickle(os.path.join(path, '02 Data','Prepared Data', '4-10-5-users-pkl'))"
   ]
  },
  {
   "cell_type": "markdown",
   "id": "e1695363",
   "metadata": {},
   "source": [
    "### 10. Creating Charts - Users/Income Groups"
   ]
  },
  {
   "cell_type": "code",
   "execution_count": 42,
   "id": "b1295c96",
   "metadata": {},
   "outputs": [
    {
     "data": {
      "image/png": "[encoded data removed]",
      "text/plain": [
       "<Figure size 864x576 with 1 Axes>"
      ]
     },
     "metadata": {
      "needs_background": "light"
     },
     "output_type": "display_data"
    }
   ],
   "source": [
    "#Bar chart of the income_group\n",
    "bar_income_group = df10exuser['income_group'].value_counts().sort_index().plot.bar(figsize = (12,8))\n",
    "sns.set_style('ticks')\n",
    "plt.xlabel('Income Groups',fontsize=13, fontweight = 'bold')\n",
    "plt.ylabel('Number of Customers',fontsize=13, fontweight = 'bold')\n",
    "plt.title('Distribution of Users by Income Group',fontsize=13, fontweight = 'bold')\n",
    "plt.yticks(fontsize = 13)\n",
    "plt.show()"
   ]
  },
  {
   "cell_type": "markdown",
   "id": "3992536b",
   "metadata": {},
   "source": [
    "### 11. Creating Charts - Customers in each Loyalty Group - Percentages"
   ]
  },
  {
   "cell_type": "code",
   "execution_count": 43,
   "id": "59a33a8c",
   "metadata": {},
   "outputs": [
    {
     "data": {
      "image/png": "[encoded data removed]",
      "text/plain": [
       "<Figure size 504x576 with 1 Axes>"
      ]
     },
     "metadata": {},
     "output_type": "display_data"
    }
   ],
   "source": [
    "#Pie chart of percentages of customer type groups\n",
    "colour = ['red', 'green', 'orange']\n",
    "custpie = df10exuser['loyalty_flag'].value_counts().plot.pie(figsize = (7,8), colors = colour, autopct = '%1.0f%%')\n",
    "plt.ylabel('')\n",
    "plt.title('Type of Customers', fontsize=13)\n",
    "plt.show()"
   ]
  },
  {
   "cell_type": "markdown",
   "id": "c039e6da",
   "metadata": {},
   "source": [
    "### 12. Creating Charts - Users per Region - Percentages"
   ]
  },
  {
   "cell_type": "code",
   "execution_count": 44,
   "id": "9275ab06",
   "metadata": {},
   "outputs": [
    {
     "data": {
      "image/png": "[encoded data removed]",
      "text/plain": [
       "<Figure size 504x576 with 1 Axes>"
      ]
     },
     "metadata": {},
     "output_type": "display_data"
    }
   ],
   "source": [
    "#Pie chart of the Percentage of our customers in each region\n",
    "regionpie = df10exuser['region'].value_counts().plot.pie(figsize = (7,8), colors = sns.color_palette('hls', 5), autopct = '%1.0f%%')\n",
    "plt.ylabel('')\n",
    "plt.title('Percentage of our customers in each region',fontsize=13)\n",
    "plt.show()"
   ]
  },
  {
   "cell_type": "markdown",
   "id": "70f62205",
   "metadata": {},
   "source": [
    "### 13. Creating Charts - Parents/Non-parents - Percentages"
   ]
  },
  {
   "cell_type": "code",
   "execution_count": 45,
   "id": "8976b9f5",
   "metadata": {},
   "outputs": [
    {
     "data": {
      "image/png": "[encoded data removed]",
      "text/plain": [
       "<Figure size 504x576 with 1 Axes>"
      ]
     },
     "metadata": {},
     "output_type": "display_data"
    }
   ],
   "source": [
    "#Pie chart of the Percentage of our customers that are parents\n",
    "parentpie = df10exuser['parent_status'].value_counts().plot.pie(figsize = (7,8), colors = sns.color_palette('hls', 5), autopct = '%1.0f%%')\n",
    "plt.ylabel('')\n",
    "plt.title('Percentage of our customers that are parents',fontsize=13)\n",
    "plt.show()"
   ]
  },
  {
   "cell_type": "markdown",
   "id": "921c8e35",
   "metadata": {},
   "source": [
    "### 14. Creating Charts - Users/Income Groups - Percentages"
   ]
  },
  {
   "cell_type": "code",
   "execution_count": 46,
   "id": "eebf291a",
   "metadata": {},
   "outputs": [],
   "source": [
    "#Creating a new_income column to split out the income_group groups that are less than 1% of our total user dataset\n",
    "#This new grouping will make the next pie chart more clear\n",
    "new_income = []\n",
    "for value in df10ex['income_group']:\n",
    "    if (value == '0-24k') or (value == '200-249k') or (value == '250k-299k') or (value == '300k-399k') or (value == '400k-499k') or (value == '500k+'):\n",
    "        new_income.append('Other')\n",
    "    elif (value == '025-49k'):\n",
    "        new_income.append('025-49k')\n",
    "    elif (value == '050-74k'):\n",
    "        new_income.append('050-74k')\n",
    "    elif (value == '075-99k'):\n",
    "        new_income.append('075-99k')\n",
    "    elif (value == '100-149k'):\n",
    "        new_income.append('100-149k')\n",
    "    elif (value == '150k-199k'):\n",
    "        new_income.append('150k-199k')\n",
    "    else:\n",
    "        new_income.append('ISSUE')"
   ]
  },
  {
   "cell_type": "code",
   "execution_count": 47,
   "id": "7c3215e7",
   "metadata": {},
   "outputs": [],
   "source": [
    "#Creating the new income_group column\n",
    "df10ex['new_income'] = new_income"
   ]
  },
  {
   "cell_type": "code",
   "execution_count": 48,
   "id": "cf6e0d01",
   "metadata": {},
   "outputs": [],
   "source": [
    "#Creating a subset of the individual users\n",
    "df10exuser = df10ex.drop_duplicates(subset = [\"user_id\"])"
   ]
  },
  {
   "cell_type": "code",
   "execution_count": 49,
   "id": "0ff0453a",
   "metadata": {},
   "outputs": [
    {
     "data": {
      "image/png": "[encoded data removed]",
      "text/plain": [
       "<Figure size 576x576 with 1 Axes>"
      ]
     },
     "metadata": {},
     "output_type": "display_data"
    }
   ],
   "source": [
    "#Pie chart of the Percentage of our customers in each of the income ranges\n",
    "income_grp_user_pie = df10exuser['new_income'].value_counts().plot.pie(figsize = (8,8), colors = sns.color_palette('hls', 6), autopct = '%1.0f%%')\n",
    "plt.ylabel('')\n",
    "plt.title('Percentage of our customers in each of the income ranges',fontsize=13)\n",
    "plt.show()"
   ]
  },
  {
   "cell_type": "code",
   "execution_count": 50,
   "id": "213e7f11",
   "metadata": {},
   "outputs": [],
   "source": [
    "#Saving images of the charts\n",
    "bar_income_group.figure.savefig(os.path.join(path, '04 Analysis','Visualisations', 'fc_users_in_income_groups.png'))\n",
    "custpie.figure.savefig(os.path.join(path, '04 Analysis','Visualisations', 'fc_custpie.png'))\n",
    "regionpie.figure.savefig(os.path.join(path, '04 Analysis','Visualisations', 'fc_regionpie.png'))\n",
    "parentpie.figure.savefig(os.path.join(path, '04 Analysis','Visualisations', 'fc_parentpie.png'))\n",
    "income_grp_user_pie.figure.savefig(os.path.join(path, '04 Analysis','Visualisations', 'fc_income_grp_user_pie.png'))"
   ]
  },
  {
   "cell_type": "markdown",
   "id": "ee7c038c",
   "metadata": {},
   "source": [
    "### 15. Aggregate the max, mean, and min variables on a customer-profile level"
   ]
  },
  {
   "cell_type": "code",
   "execution_count": 51,
   "id": "411e93ef",
   "metadata": {},
   "outputs": [
    {
     "data": {
      "text/html": [
       "<div>\n",
       "<style scoped>\n",
       "    .dataframe tbody tr th:only-of-type {\n",
       "        vertical-align: middle;\n",
       "    }\n",
       "\n",
       "    .dataframe tbody tr th {\n",
       "        vertical-align: top;\n",
       "    }\n",
       "\n",
       "    .dataframe thead tr th {\n",
       "        text-align: left;\n",
       "    }\n",
       "\n",
       "    .dataframe thead tr:last-of-type th {\n",
       "        text-align: right;\n",
       "    }\n",
       "</style>\n",
       "<table border=\"1\" class=\"dataframe\">\n",
       "  <thead>\n",
       "    <tr>\n",
       "      <th></th>\n",
       "      <th colspan=\"3\" halign=\"left\">prices</th>\n",
       "    </tr>\n",
       "    <tr>\n",
       "      <th></th>\n",
       "      <th>min</th>\n",
       "      <th>max</th>\n",
       "      <th>mean</th>\n",
       "    </tr>\n",
       "    <tr>\n",
       "      <th>income_group</th>\n",
       "      <th></th>\n",
       "      <th></th>\n",
       "      <th></th>\n",
       "    </tr>\n",
       "  </thead>\n",
       "  <tbody>\n",
       "    <tr>\n",
       "      <th>025-49k</th>\n",
       "      <td>1.0</td>\n",
       "      <td>25.0</td>\n",
       "      <td>6.679688</td>\n",
       "    </tr>\n",
       "    <tr>\n",
       "      <th>050-74k</th>\n",
       "      <td>1.0</td>\n",
       "      <td>25.0</td>\n",
       "      <td>7.800781</td>\n",
       "    </tr>\n",
       "    <tr>\n",
       "      <th>075-99k</th>\n",
       "      <td>1.0</td>\n",
       "      <td>25.0</td>\n",
       "      <td>7.964844</td>\n",
       "    </tr>\n",
       "    <tr>\n",
       "      <th>100-149k</th>\n",
       "      <td>1.0</td>\n",
       "      <td>25.0</td>\n",
       "      <td>7.964844</td>\n",
       "    </tr>\n",
       "    <tr>\n",
       "      <th>150k-199k</th>\n",
       "      <td>1.0</td>\n",
       "      <td>25.0</td>\n",
       "      <td>7.957031</td>\n",
       "    </tr>\n",
       "    <tr>\n",
       "      <th>200-249k</th>\n",
       "      <td>1.0</td>\n",
       "      <td>25.0</td>\n",
       "      <td>7.781250</td>\n",
       "    </tr>\n",
       "    <tr>\n",
       "      <th>250k-299k</th>\n",
       "      <td>1.0</td>\n",
       "      <td>25.0</td>\n",
       "      <td>7.800781</td>\n",
       "    </tr>\n",
       "    <tr>\n",
       "      <th>300k-399k</th>\n",
       "      <td>1.0</td>\n",
       "      <td>25.0</td>\n",
       "      <td>7.769531</td>\n",
       "    </tr>\n",
       "    <tr>\n",
       "      <th>400k-499k</th>\n",
       "      <td>1.0</td>\n",
       "      <td>25.0</td>\n",
       "      <td>7.750000</td>\n",
       "    </tr>\n",
       "    <tr>\n",
       "      <th>500k+</th>\n",
       "      <td>1.0</td>\n",
       "      <td>25.0</td>\n",
       "      <td>7.726562</td>\n",
       "    </tr>\n",
       "  </tbody>\n",
       "</table>\n",
       "</div>"
      ],
      "text/plain": [
       "             prices                \n",
       "                min   max      mean\n",
       "income_group                       \n",
       "025-49k         1.0  25.0  6.679688\n",
       "050-74k         1.0  25.0  7.800781\n",
       "075-99k         1.0  25.0  7.964844\n",
       "100-149k        1.0  25.0  7.964844\n",
       "150k-199k       1.0  25.0  7.957031\n",
       "200-249k        1.0  25.0  7.781250\n",
       "250k-299k       1.0  25.0  7.800781\n",
       "300k-399k       1.0  25.0  7.769531\n",
       "400k-499k       1.0  25.0  7.750000\n",
       "500k+           1.0  25.0  7.726562"
      ]
     },
     "execution_count": 51,
     "metadata": {},
     "output_type": "execute_result"
    }
   ],
   "source": [
    "#Min, Max and Mean of the prices of products bought by each income group\n",
    "df10ex.groupby('income_group').agg({'prices': ['min','max','mean']})"
   ]
  },
  {
   "cell_type": "markdown",
   "id": "1714788a",
   "metadata": {},
   "source": [
    "##### The income_groups 075-99k, 100-149k and 150-199k have the higest average price for products bought"
   ]
  },
  {
   "cell_type": "code",
   "execution_count": 52,
   "id": "748c4d62",
   "metadata": {},
   "outputs": [
    {
     "data": {
      "text/html": [
       "<div>\n",
       "<style scoped>\n",
       "    .dataframe tbody tr th:only-of-type {\n",
       "        vertical-align: middle;\n",
       "    }\n",
       "\n",
       "    .dataframe tbody tr th {\n",
       "        vertical-align: top;\n",
       "    }\n",
       "\n",
       "    .dataframe thead tr th {\n",
       "        text-align: left;\n",
       "    }\n",
       "\n",
       "    .dataframe thead tr:last-of-type th {\n",
       "        text-align: right;\n",
       "    }\n",
       "</style>\n",
       "<table border=\"1\" class=\"dataframe\">\n",
       "  <thead>\n",
       "    <tr>\n",
       "      <th></th>\n",
       "      <th colspan=\"3\" halign=\"left\">max_order</th>\n",
       "    </tr>\n",
       "    <tr>\n",
       "      <th></th>\n",
       "      <th>min</th>\n",
       "      <th>max</th>\n",
       "      <th>mean</th>\n",
       "    </tr>\n",
       "    <tr>\n",
       "      <th>income_group</th>\n",
       "      <th></th>\n",
       "      <th></th>\n",
       "      <th></th>\n",
       "    </tr>\n",
       "  </thead>\n",
       "  <tbody>\n",
       "    <tr>\n",
       "      <th>025-49k</th>\n",
       "      <td>2</td>\n",
       "      <td>99</td>\n",
       "      <td>13.433560</td>\n",
       "    </tr>\n",
       "    <tr>\n",
       "      <th>050-74k</th>\n",
       "      <td>3</td>\n",
       "      <td>99</td>\n",
       "      <td>15.665775</td>\n",
       "    </tr>\n",
       "    <tr>\n",
       "      <th>075-99k</th>\n",
       "      <td>3</td>\n",
       "      <td>99</td>\n",
       "      <td>16.087497</td>\n",
       "    </tr>\n",
       "    <tr>\n",
       "      <th>100-149k</th>\n",
       "      <td>1</td>\n",
       "      <td>99</td>\n",
       "      <td>15.976583</td>\n",
       "    </tr>\n",
       "    <tr>\n",
       "      <th>150k-199k</th>\n",
       "      <td>2</td>\n",
       "      <td>99</td>\n",
       "      <td>16.253601</td>\n",
       "    </tr>\n",
       "    <tr>\n",
       "      <th>200-249k</th>\n",
       "      <td>3</td>\n",
       "      <td>99</td>\n",
       "      <td>22.000000</td>\n",
       "    </tr>\n",
       "    <tr>\n",
       "      <th>250k-299k</th>\n",
       "      <td>3</td>\n",
       "      <td>99</td>\n",
       "      <td>20.732484</td>\n",
       "    </tr>\n",
       "    <tr>\n",
       "      <th>300k-399k</th>\n",
       "      <td>3</td>\n",
       "      <td>99</td>\n",
       "      <td>23.965686</td>\n",
       "    </tr>\n",
       "    <tr>\n",
       "      <th>400k-499k</th>\n",
       "      <td>3</td>\n",
       "      <td>99</td>\n",
       "      <td>21.141593</td>\n",
       "    </tr>\n",
       "    <tr>\n",
       "      <th>500k+</th>\n",
       "      <td>3</td>\n",
       "      <td>99</td>\n",
       "      <td>23.457143</td>\n",
       "    </tr>\n",
       "  </tbody>\n",
       "</table>\n",
       "</div>"
      ],
      "text/plain": [
       "             max_order               \n",
       "                   min max       mean\n",
       "income_group                         \n",
       "025-49k              2  99  13.433560\n",
       "050-74k              3  99  15.665775\n",
       "075-99k              3  99  16.087497\n",
       "100-149k             1  99  15.976583\n",
       "150k-199k            2  99  16.253601\n",
       "200-249k             3  99  22.000000\n",
       "250k-299k            3  99  20.732484\n",
       "300k-399k            3  99  23.965686\n",
       "400k-499k            3  99  21.141593\n",
       "500k+                3  99  23.457143"
      ]
     },
     "execution_count": 52,
     "metadata": {},
     "output_type": "execute_result"
    }
   ],
   "source": [
    "#Min, Max and Mean of the max_order of products bought by each income group\n",
    "df10exuser.groupby('income_group').agg({'max_order': ['min','max','mean']})"
   ]
  },
  {
   "cell_type": "code",
   "execution_count": 53,
   "id": "f30dedf5",
   "metadata": {},
   "outputs": [
    {
     "data": {
      "text/html": [
       "<div>\n",
       "<style scoped>\n",
       "    .dataframe tbody tr th:only-of-type {\n",
       "        vertical-align: middle;\n",
       "    }\n",
       "\n",
       "    .dataframe tbody tr th {\n",
       "        vertical-align: top;\n",
       "    }\n",
       "\n",
       "    .dataframe thead tr th {\n",
       "        text-align: left;\n",
       "    }\n",
       "\n",
       "    .dataframe thead tr:last-of-type th {\n",
       "        text-align: right;\n",
       "    }\n",
       "</style>\n",
       "<table border=\"1\" class=\"dataframe\">\n",
       "  <thead>\n",
       "    <tr>\n",
       "      <th></th>\n",
       "      <th colspan=\"3\" halign=\"left\">spend_group</th>\n",
       "    </tr>\n",
       "    <tr>\n",
       "      <th></th>\n",
       "      <th>min</th>\n",
       "      <th>max</th>\n",
       "      <th>mean</th>\n",
       "    </tr>\n",
       "    <tr>\n",
       "      <th>income_group</th>\n",
       "      <th></th>\n",
       "      <th></th>\n",
       "      <th></th>\n",
       "    </tr>\n",
       "  </thead>\n",
       "  <tbody>\n",
       "    <tr>\n",
       "      <th>025-49k</th>\n",
       "      <td>1.000000</td>\n",
       "      <td>13.875000</td>\n",
       "      <td>6.390625</td>\n",
       "    </tr>\n",
       "    <tr>\n",
       "      <th>050-74k</th>\n",
       "      <td>1.099609</td>\n",
       "      <td>14.765625</td>\n",
       "      <td>7.777344</td>\n",
       "    </tr>\n",
       "    <tr>\n",
       "      <th>075-99k</th>\n",
       "      <td>5.375000</td>\n",
       "      <td>23.203125</td>\n",
       "      <td>8.093750</td>\n",
       "    </tr>\n",
       "    <tr>\n",
       "      <th>100-149k</th>\n",
       "      <td>4.656250</td>\n",
       "      <td>20.000000</td>\n",
       "      <td>8.085938</td>\n",
       "    </tr>\n",
       "    <tr>\n",
       "      <th>150k-199k</th>\n",
       "      <td>4.433594</td>\n",
       "      <td>20.109375</td>\n",
       "      <td>8.085938</td>\n",
       "    </tr>\n",
       "    <tr>\n",
       "      <th>200-249k</th>\n",
       "      <td>4.371094</td>\n",
       "      <td>12.671875</td>\n",
       "      <td>7.781250</td>\n",
       "    </tr>\n",
       "    <tr>\n",
       "      <th>250k-299k</th>\n",
       "      <td>6.070312</td>\n",
       "      <td>9.906250</td>\n",
       "      <td>7.808594</td>\n",
       "    </tr>\n",
       "    <tr>\n",
       "      <th>300k-399k</th>\n",
       "      <td>5.304688</td>\n",
       "      <td>9.476562</td>\n",
       "      <td>7.714844</td>\n",
       "    </tr>\n",
       "    <tr>\n",
       "      <th>400k-499k</th>\n",
       "      <td>4.984375</td>\n",
       "      <td>10.320312</td>\n",
       "      <td>7.699219</td>\n",
       "    </tr>\n",
       "    <tr>\n",
       "      <th>500k+</th>\n",
       "      <td>6.304688</td>\n",
       "      <td>9.242188</td>\n",
       "      <td>7.812500</td>\n",
       "    </tr>\n",
       "  </tbody>\n",
       "</table>\n",
       "</div>"
      ],
      "text/plain": [
       "             spend_group                     \n",
       "                     min        max      mean\n",
       "income_group                                 \n",
       "025-49k         1.000000  13.875000  6.390625\n",
       "050-74k         1.099609  14.765625  7.777344\n",
       "075-99k         5.375000  23.203125  8.093750\n",
       "100-149k        4.656250  20.000000  8.085938\n",
       "150k-199k       4.433594  20.109375  8.085938\n",
       "200-249k        4.371094  12.671875  7.781250\n",
       "250k-299k       6.070312   9.906250  7.808594\n",
       "300k-399k       5.304688   9.476562  7.714844\n",
       "400k-499k       4.984375  10.320312  7.699219\n",
       "500k+           6.304688   9.242188  7.812500"
      ]
     },
     "execution_count": 53,
     "metadata": {},
     "output_type": "execute_result"
    }
   ],
   "source": [
    "#Min, Max and Mean of the spend_group, by each income group\n",
    "df10exuser.groupby('income_group').agg({'spend_group': ['min','max','mean']})"
   ]
  },
  {
   "cell_type": "code",
   "execution_count": 54,
   "id": "0cb710e0",
   "metadata": {},
   "outputs": [
    {
     "data": {
      "text/html": [
       "<div>\n",
       "<style scoped>\n",
       "    .dataframe tbody tr th:only-of-type {\n",
       "        vertical-align: middle;\n",
       "    }\n",
       "\n",
       "    .dataframe tbody tr th {\n",
       "        vertical-align: top;\n",
       "    }\n",
       "\n",
       "    .dataframe thead tr th {\n",
       "        text-align: left;\n",
       "    }\n",
       "\n",
       "    .dataframe thead tr:last-of-type th {\n",
       "        text-align: right;\n",
       "    }\n",
       "</style>\n",
       "<table border=\"1\" class=\"dataframe\">\n",
       "  <thead>\n",
       "    <tr>\n",
       "      <th></th>\n",
       "      <th colspan=\"3\" halign=\"left\">prices</th>\n",
       "    </tr>\n",
       "    <tr>\n",
       "      <th></th>\n",
       "      <th>min</th>\n",
       "      <th>max</th>\n",
       "      <th>mean</th>\n",
       "    </tr>\n",
       "    <tr>\n",
       "      <th>age_group</th>\n",
       "      <th></th>\n",
       "      <th></th>\n",
       "      <th></th>\n",
       "    </tr>\n",
       "  </thead>\n",
       "  <tbody>\n",
       "    <tr>\n",
       "      <th>G1 up to 39</th>\n",
       "      <td>1.0</td>\n",
       "      <td>25.000000</td>\n",
       "      <td>7.812500</td>\n",
       "    </tr>\n",
       "    <tr>\n",
       "      <th>G2 40-59</th>\n",
       "      <td>1.0</td>\n",
       "      <td>25.000000</td>\n",
       "      <td>7.796875</td>\n",
       "    </tr>\n",
       "    <tr>\n",
       "      <th>G3 60 or more</th>\n",
       "      <td>1.0</td>\n",
       "      <td>24.203125</td>\n",
       "      <td>7.816406</td>\n",
       "    </tr>\n",
       "  </tbody>\n",
       "</table>\n",
       "</div>"
      ],
      "text/plain": [
       "              prices                     \n",
       "                 min        max      mean\n",
       "age_group                                \n",
       "G1 up to 39      1.0  25.000000  7.812500\n",
       "G2 40-59         1.0  25.000000  7.796875\n",
       "G3 60 or more    1.0  24.203125  7.816406"
      ]
     },
     "execution_count": 54,
     "metadata": {},
     "output_type": "execute_result"
    }
   ],
   "source": [
    "#Min, Max and Mean of the prices, by each age group\n",
    "df10exuser.groupby('age_group').agg({'prices': ['min','max','mean']}).sort_index()"
   ]
  },
  {
   "cell_type": "markdown",
   "id": "08458874",
   "metadata": {},
   "source": [
    "### 16. Importing and merging Departments dataset and current dataset"
   ]
  },
  {
   "cell_type": "code",
   "execution_count": 55,
   "id": "9e4c98cd",
   "metadata": {},
   "outputs": [],
   "source": [
    "#Importing the departments dataset I have already cleaned up\n",
    "depts = pd.read_csv(os.path.join(path, '02 Data', 'Prepared Data', 'departments_wrangled.csv'), index_col=0)"
   ]
  },
  {
   "cell_type": "code",
   "execution_count": 56,
   "id": "f8f8a3fc",
   "metadata": {},
   "outputs": [
    {
     "data": {
      "text/html": [
       "<div>\n",
       "<style scoped>\n",
       "    .dataframe tbody tr th:only-of-type {\n",
       "        vertical-align: middle;\n",
       "    }\n",
       "\n",
       "    .dataframe tbody tr th {\n",
       "        vertical-align: top;\n",
       "    }\n",
       "\n",
       "    .dataframe thead th {\n",
       "        text-align: right;\n",
       "    }\n",
       "</style>\n",
       "<table border=\"1\" class=\"dataframe\">\n",
       "  <thead>\n",
       "    <tr style=\"text-align: right;\">\n",
       "      <th></th>\n",
       "      <th>department_name</th>\n",
       "    </tr>\n",
       "    <tr>\n",
       "      <th>department_id</th>\n",
       "      <th></th>\n",
       "    </tr>\n",
       "  </thead>\n",
       "  <tbody>\n",
       "    <tr>\n",
       "      <th>1</th>\n",
       "      <td>frozen</td>\n",
       "    </tr>\n",
       "    <tr>\n",
       "      <th>2</th>\n",
       "      <td>other</td>\n",
       "    </tr>\n",
       "    <tr>\n",
       "      <th>3</th>\n",
       "      <td>bakery</td>\n",
       "    </tr>\n",
       "    <tr>\n",
       "      <th>4</th>\n",
       "      <td>produce</td>\n",
       "    </tr>\n",
       "    <tr>\n",
       "      <th>5</th>\n",
       "      <td>alcohol</td>\n",
       "    </tr>\n",
       "    <tr>\n",
       "      <th>6</th>\n",
       "      <td>international</td>\n",
       "    </tr>\n",
       "    <tr>\n",
       "      <th>7</th>\n",
       "      <td>beverages</td>\n",
       "    </tr>\n",
       "    <tr>\n",
       "      <th>8</th>\n",
       "      <td>pets</td>\n",
       "    </tr>\n",
       "    <tr>\n",
       "      <th>9</th>\n",
       "      <td>dry goods pasta</td>\n",
       "    </tr>\n",
       "    <tr>\n",
       "      <th>10</th>\n",
       "      <td>bulk</td>\n",
       "    </tr>\n",
       "    <tr>\n",
       "      <th>11</th>\n",
       "      <td>personal care</td>\n",
       "    </tr>\n",
       "    <tr>\n",
       "      <th>12</th>\n",
       "      <td>meat seafood</td>\n",
       "    </tr>\n",
       "    <tr>\n",
       "      <th>13</th>\n",
       "      <td>pantry</td>\n",
       "    </tr>\n",
       "    <tr>\n",
       "      <th>14</th>\n",
       "      <td>breakfast</td>\n",
       "    </tr>\n",
       "    <tr>\n",
       "      <th>15</th>\n",
       "      <td>canned goods</td>\n",
       "    </tr>\n",
       "    <tr>\n",
       "      <th>16</th>\n",
       "      <td>dairy eggs</td>\n",
       "    </tr>\n",
       "    <tr>\n",
       "      <th>17</th>\n",
       "      <td>household</td>\n",
       "    </tr>\n",
       "    <tr>\n",
       "      <th>18</th>\n",
       "      <td>babies</td>\n",
       "    </tr>\n",
       "    <tr>\n",
       "      <th>19</th>\n",
       "      <td>snacks</td>\n",
       "    </tr>\n",
       "    <tr>\n",
       "      <th>20</th>\n",
       "      <td>deli</td>\n",
       "    </tr>\n",
       "    <tr>\n",
       "      <th>21</th>\n",
       "      <td>missing</td>\n",
       "    </tr>\n",
       "  </tbody>\n",
       "</table>\n",
       "</div>"
      ],
      "text/plain": [
       "               department_name\n",
       "department_id                 \n",
       "1                       frozen\n",
       "2                        other\n",
       "3                       bakery\n",
       "4                      produce\n",
       "5                      alcohol\n",
       "6                international\n",
       "7                    beverages\n",
       "8                         pets\n",
       "9              dry goods pasta\n",
       "10                        bulk\n",
       "11               personal care\n",
       "12                meat seafood\n",
       "13                      pantry\n",
       "14                   breakfast\n",
       "15                canned goods\n",
       "16                  dairy eggs\n",
       "17                   household\n",
       "18                      babies\n",
       "19                      snacks\n",
       "20                        deli\n",
       "21                     missing"
      ]
     },
     "execution_count": 56,
     "metadata": {},
     "output_type": "execute_result"
    }
   ],
   "source": [
    "#Checking the depts dataset\n",
    "depts.head(22)"
   ]
  },
  {
   "cell_type": "code",
   "execution_count": 57,
   "id": "96d54583",
   "metadata": {},
   "outputs": [
    {
     "name": "stdout",
     "output_type": "stream",
     "text": [
      "Wall time: 4min 28s\n"
     ]
    }
   ],
   "source": [
    "%%time\n",
    "#Merging the depts and df10ex datasets\n",
    "df10wdepts = df10ex.merge(depts, on = 'department_id')"
   ]
  },
  {
   "cell_type": "markdown",
   "id": "f1a5297c",
   "metadata": {},
   "source": [
    "### 17. Creating Charts - Top Departments"
   ]
  },
  {
   "cell_type": "code",
   "execution_count": 58,
   "id": "02f5b42d",
   "metadata": {},
   "outputs": [
    {
     "data": {
      "text/plain": [
       "produce            9479291\n",
       "dairy eggs         5393620\n",
       "snacks             2887550\n",
       "beverages          2688123\n",
       "frozen             2234743\n",
       "pantry             1875369\n",
       "bakery             1172428\n",
       "canned goods       1068058\n",
       "deli               1051249\n",
       "dry goods pasta     866627\n",
       "household           738666\n",
       "meat seafood        708927\n",
       "breakfast           703033\n",
       "personal care       447572\n",
       "babies              423802\n",
       "international       269253\n",
       "alcohol             153696\n",
       "pets                 97716\n",
       "missing              69145\n",
       "other                36291\n",
       "bulk                 34573\n",
       "Name: department_name, dtype: int64"
      ]
     },
     "execution_count": 58,
     "metadata": {},
     "output_type": "execute_result"
    }
   ],
   "source": [
    "#Checking how many items have been ordered from each department\n",
    "df10wdepts['department_name'].value_counts(dropna = False)"
   ]
  },
  {
   "cell_type": "code",
   "execution_count": 59,
   "id": "f757fcb7",
   "metadata": {},
   "outputs": [
    {
     "data": {
      "image/png": "[encoded data removed]",
      "text/plain": [
       "<Figure size 936x432 with 1 Axes>"
      ]
     },
     "metadata": {},
     "output_type": "display_data"
    }
   ],
   "source": [
    "#Creating a bar chart of Top 10 departments\n",
    "top_10_depts = df10wdepts['department_name'].value_counts().nlargest(10).plot.barh(figsize = (13,6), color = ['green'])\n",
    "sns.set_style('ticks')\n",
    "plt.xlabel('Number of Items Ordered (in millions)', fontsize = 13, fontweight = 'bold')\n",
    "plt.ylabel('Department', fontsize = 13, fontweight = 'bold')\n",
    "plt.xticks(fontsize = 13)\n",
    "plt.yticks(fontsize = 13)\n",
    "plt.title('Number of Ordered Products From Top 10 Departments', fontsize = 13, fontweight = 'bold')\n",
    "plt.show()"
   ]
  },
  {
   "cell_type": "code",
   "execution_count": 69,
   "id": "ea66108c",
   "metadata": {},
   "outputs": [],
   "source": [
    "#Saving image of the chart\n",
    "top_10_depts.figure.savefig(os.path.join(path, '04 Analysis','Visualisations', 'fc_top_10_depts.png'))"
   ]
  },
  {
   "cell_type": "code",
   "execution_count": 64,
   "id": "7e8f612e",
   "metadata": {},
   "outputs": [],
   "source": [
    "#Creating a subset of the individual users\n",
    "df10wdeptsuser = df10wdepts.drop_duplicates(subset = [\"user_id\"])"
   ]
  },
  {
   "cell_type": "markdown",
   "id": "dbe52374",
   "metadata": {},
   "source": [
    "### 18. Creating Charts - Age Groupings by Region"
   ]
  },
  {
   "cell_type": "code",
   "execution_count": 65,
   "id": "1b983b4b",
   "metadata": {},
   "outputs": [],
   "source": [
    "#Creating a crosstab of the regions and age groups\n",
    "crosstab_region_age = pd.crosstab(df10wdeptsuser['region'], df10wdeptsuser['age_group'], dropna = False)"
   ]
  },
  {
   "cell_type": "code",
   "execution_count": 66,
   "id": "5a799e18",
   "metadata": {},
   "outputs": [
    {
     "data": {
      "image/png": "[encoded data removed]",
      "text/plain": [
       "<Figure size 576x648 with 1 Axes>"
      ]
     },
     "metadata": {},
     "output_type": "display_data"
    }
   ],
   "source": [
    "#Creating a stacked bar chart of the regions, divided up by the age groups\n",
    "region_age = crosstab_region_age.plot(kind = 'bar', stacked = True, color = sns.color_palette('Greens', 3), figsize = (8,9))\n",
    "plt.legend(loc='upper left')\n",
    "plt.xlabel('Regions', fontsize = 13, fontweight = 'bold')\n",
    "plt.xticks(fontsize = 13)\n",
    "plt.title('Age Groupings by Region', fontsize = 13, fontweight = 'bold')\n",
    "plt.show()"
   ]
  },
  {
   "cell_type": "code",
   "execution_count": 67,
   "id": "b63871de",
   "metadata": {},
   "outputs": [],
   "source": [
    "#Saving image of the chart\n",
    "region_age.figure.savefig(os.path.join(path, '04 Analysis','Visualisations', 'fc_region_age.png'))"
   ]
  },
  {
   "cell_type": "markdown",
   "id": "4985f23b",
   "metadata": {},
   "source": [
    "### 19. Creating Charts - Products ordered by income groups (Full Dataset) - Percentages"
   ]
  },
  {
   "cell_type": "code",
   "execution_count": 68,
   "id": "707da5e9",
   "metadata": {},
   "outputs": [
    {
     "data": {
      "image/png": "[encoded data removed]",
      "text/plain": [
       "<Figure size 432x432 with 1 Axes>"
      ]
     },
     "metadata": {},
     "output_type": "display_data"
    }
   ],
   "source": [
    "#Pie chart of the percentage of products ordered in each of the income ranges\n",
    "income_grp_pie_d = df10wdepts['new_income'].value_counts().plot.pie(figsize = (6,6), colors = sns.color_palette('hls', 6), autopct = '%1.0f%%')\n",
    "plt.ylabel('')\n",
    "plt.title('Percentage of the products ordered by each of the income ranges',fontsize=13)\n",
    "plt.show()"
   ]
  },
  {
   "cell_type": "markdown",
   "id": "d9a81438",
   "metadata": {},
   "source": [
    "### 20. Creating Charts - Products ordered by income groups (By Region) - Percentages"
   ]
  },
  {
   "cell_type": "code",
   "execution_count": 62,
   "id": "52a4a595",
   "metadata": {},
   "outputs": [],
   "source": [
    "#Creating a subset with just the 'Midwest' customers\n",
    "midwest = df10wdepts[df10wdepts['region'] == 'Midwest']"
   ]
  },
  {
   "cell_type": "code",
   "execution_count": 63,
   "id": "b03a4732",
   "metadata": {},
   "outputs": [],
   "source": [
    "#Creating a subset with just the 'West' customers\n",
    "west = df10wdepts[df10wdepts['region'] == 'West']"
   ]
  },
  {
   "cell_type": "code",
   "execution_count": 64,
   "id": "5293aaa6",
   "metadata": {},
   "outputs": [],
   "source": [
    "#Creating a subset with just the 'Northeast' customers\n",
    "northeast = df10wdepts[df10wdepts['region'] == 'Northeast']"
   ]
  },
  {
   "cell_type": "code",
   "execution_count": 65,
   "id": "365da187",
   "metadata": {},
   "outputs": [],
   "source": [
    "#Creating a subset with just the 'South' customers\n",
    "south = df10wdepts[df10wdepts['region'] == 'South']"
   ]
  },
  {
   "cell_type": "code",
   "execution_count": 73,
   "id": "bd857645",
   "metadata": {},
   "outputs": [
    {
     "data": {
      "image/png": "[encoded data removed]",
      "text/plain": [
       "<Figure size 576x432 with 1 Axes>"
      ]
     },
     "metadata": {},
     "output_type": "display_data"
    }
   ],
   "source": [
    "##Pie chart of the Percentage of products ordered in each of the income ranges - in the Midwest Region\n",
    "midwest_income_grp = midwest['new_income'].value_counts().plot.pie(figsize = (8,6), colors = sns.color_palette('hls', 6), autopct = '%1.0f%%')\n",
    "plt.ylabel('')\n",
    "plt.title('Percentage of products ordered in each of the income ranges - in the Midwest Region',fontsize=13)\n",
    "plt.show()"
   ]
  },
  {
   "cell_type": "code",
   "execution_count": 74,
   "id": "09520002",
   "metadata": {},
   "outputs": [
    {
     "data": {
      "image/png": "[encoded data removed]",
      "text/plain": [
       "<Figure size 576x432 with 1 Axes>"
      ]
     },
     "metadata": {},
     "output_type": "display_data"
    }
   ],
   "source": [
    "#Pie chart of the Percentage of products ordered in each of the income ranges - in the South Region\n",
    "south_income_grp = south['new_income'].value_counts().plot.pie(figsize = (8,6), colors = sns.color_palette('hls', 6), autopct = '%1.0f%%')\n",
    "plt.ylabel('')\n",
    "plt.title('Percentage of products ordered in each of the income ranges - in the South Region',fontsize=13)\n",
    "plt.show()"
   ]
  },
  {
   "cell_type": "code",
   "execution_count": 75,
   "id": "2df736bc",
   "metadata": {},
   "outputs": [
    {
     "data": {
      "image/png": "[encoded data removed]",
      "text/plain": [
       "<Figure size 576x432 with 1 Axes>"
      ]
     },
     "metadata": {},
     "output_type": "display_data"
    }
   ],
   "source": [
    "#Pie chart of the Percentage of products ordered in each of the income ranges - in the West Region\n",
    "west_income_grp = west['new_income'].value_counts().plot.pie(figsize = (8,6), colors = sns.color_palette('hls', 6), autopct = '%1.0f%%')\n",
    "plt.ylabel('')\n",
    "plt.title('Percentage of products ordered in each of the income ranges - in the West Region',fontsize=13)\n",
    "plt.show()"
   ]
  },
  {
   "cell_type": "code",
   "execution_count": 76,
   "id": "6f2283ce",
   "metadata": {},
   "outputs": [
    {
     "data": {
      "image/png": "[encoded data removed]",
      "text/plain": [
       "<Figure size 576x432 with 1 Axes>"
      ]
     },
     "metadata": {},
     "output_type": "display_data"
    }
   ],
   "source": [
    "#Pie chart of the Percentage of our customers in each of the income ranges - in the Northeast Region\n",
    "northeast_income_grp = northeast['new_income'].value_counts().plot.pie(figsize = (8,6), colors = sns.color_palette('hls', 6), autopct = '%1.0f%%')\n",
    "plt.ylabel('')\n",
    "plt.title('Percentage of products ordered in each of the income ranges - in the Northeast Region',fontsize=13)\n",
    "plt.show()"
   ]
  },
  {
   "cell_type": "code",
   "execution_count": 77,
   "id": "31120b39",
   "metadata": {},
   "outputs": [],
   "source": [
    "#Saving images of the 5 pie charts\n",
    "income_grp_pie_d.figure.savefig(os.path.join(path, '04 Analysis','Visualisations', 'fc_pie_income_grp.png'))\n",
    "midwest_income_grp.figure.savefig(os.path.join(path, '04 Analysis','Visualisations', 'fc_midwest_income_grp.png'))\n",
    "south_income_grp.figure.savefig(os.path.join(path, '04 Analysis','Visualisations', 'fc_south_income_grp.png'))\n",
    "west_income_grp.figure.savefig(os.path.join(path, '04 Analysis','Visualisations', 'fc_west_income_grp.png'))\n",
    "northeast_income_grp.figure.savefig(os.path.join(path, '04 Analysis','Visualisations', 'fc_northeast_income_grp.png'))"
   ]
  },
  {
   "cell_type": "markdown",
   "id": "06cbfb22",
   "metadata": {},
   "source": [
    "### 21. Creating Charts - Products ordered by Customer Loyalty (By Region) - Percentages"
   ]
  },
  {
   "cell_type": "code",
   "execution_count": 31,
   "id": "a7cd7cdf",
   "metadata": {},
   "outputs": [
    {
     "data": {
      "image/png": "[encoded data removed]",
      "text/plain": [
       "<Figure size 576x432 with 1 Axes>"
      ]
     },
     "metadata": {},
     "output_type": "display_data"
    }
   ],
   "source": [
    "##Pie chart of the Percentage of products ordered by each of the Loyalty Groups - in the Midwest Region\n",
    "midwest_loyalty_grp = midwest['loyalty_flag'].value_counts().plot.pie(figsize = (8,6), colors = sns.color_palette('hls', 6), autopct = '%1.0f%%')\n",
    "plt.ylabel('')\n",
    "plt.title('Percentage of products ordered by each of the Loyalty Groups - in the Midwest Region',fontsize=13)\n",
    "plt.show()"
   ]
  },
  {
   "cell_type": "code",
   "execution_count": 32,
   "id": "bca3c3f3",
   "metadata": {},
   "outputs": [
    {
     "data": {
      "image/png": "[encoded data removed]",
      "text/plain": [
       "<Figure size 576x432 with 1 Axes>"
      ]
     },
     "metadata": {},
     "output_type": "display_data"
    }
   ],
   "source": [
    "##Pie chart of the Percentage of products ordered by each of the Loyalty Groups - in the South Region\n",
    "south_loyalty_grp = south['loyalty_flag'].value_counts().plot.pie(figsize = (8,6), colors = sns.color_palette('hls', 6), autopct = '%1.0f%%')\n",
    "plt.ylabel('')\n",
    "plt.title('Percentage of products ordered by each of the Loyalty Groups - in the South Region',fontsize=13)\n",
    "plt.show()"
   ]
  },
  {
   "cell_type": "code",
   "execution_count": 33,
   "id": "42d3745f",
   "metadata": {},
   "outputs": [
    {
     "data": {
      "image/png": "[encoded data removed]",
      "text/plain": [
       "<Figure size 576x432 with 1 Axes>"
      ]
     },
     "metadata": {},
     "output_type": "display_data"
    }
   ],
   "source": [
    "##Pie chart of the Percentage of products ordered by each of the Loyalty Groups - in the West Region\n",
    "west_loyalty_grp = west['loyalty_flag'].value_counts().plot.pie(figsize = (8,6), colors = sns.color_palette('hls', 6), autopct = '%1.0f%%')\n",
    "plt.ylabel('')\n",
    "plt.title('Percentage of products ordered by each of the Loyalty Groups - in the West Region',fontsize=13)\n",
    "plt.show()"
   ]
  },
  {
   "cell_type": "code",
   "execution_count": 34,
   "id": "0001e2a7",
   "metadata": {},
   "outputs": [
    {
     "data": {
      "image/png": "[encoded data removed]",
      "text/plain": [
       "<Figure size 576x432 with 1 Axes>"
      ]
     },
     "metadata": {},
     "output_type": "display_data"
    }
   ],
   "source": [
    "##Pie chart of the Percentage of products ordered by each of the Loyalty Groups - in the Northeast Region\n",
    "northeast_loyalty_grp = northeast['loyalty_flag'].value_counts().plot.pie(figsize = (8,6), colors = sns.color_palette('hls', 6), autopct = '%1.0f%%')\n",
    "plt.ylabel('')\n",
    "plt.title('Percentage of products ordered by each of the Loyalty Groups - in the Northeast Region',fontsize=13)\n",
    "plt.show()"
   ]
  },
  {
   "cell_type": "code",
   "execution_count": 35,
   "id": "184286be",
   "metadata": {},
   "outputs": [],
   "source": [
    "#Saving images of the 4 pie charts\n",
    "midwest_loyalty_grp.figure.savefig(os.path.join(path, '04 Analysis','Visualisations', 'fc_midwest_loyalty_grp.png'))\n",
    "south_loyalty_grp.figure.savefig(os.path.join(path, '04 Analysis','Visualisations', 'fc_south_loyalty_grp.png'))\n",
    "west_loyalty_grp.figure.savefig(os.path.join(path, '04 Analysis','Visualisations', 'fc_west_loyalty_grp.png'))\n",
    "northeast_loyalty_grp.figure.savefig(os.path.join(path, '04 Analysis','Visualisations', 'fc_northeast_loyalty_grp.png'))"
   ]
  },
  {
   "cell_type": "code",
   "execution_count": 36,
   "id": "c96adb1f",
   "metadata": {},
   "outputs": [
    {
     "data": {
      "image/png": "[encoded data removed]",
      "text/plain": [
       "<Figure size 576x432 with 1 Axes>"
      ]
     },
     "metadata": {},
     "output_type": "display_data"
    }
   ],
   "source": [
    "##Pie chart of the Percentage of products ordered by each of the Loyalty Groups - in the Northeast Region\n",
    "k_grp = df10wdepts['loyalty_flag'].value_counts().plot.pie(figsize = (8,6), colors = sns.color_palette('hls', 6), autopct = '%1.0f%%')\n",
    "plt.ylabel('')\n",
    "plt.title('Percentage of products ordered by each of the Loyalty Groups - in the Northeast Region',fontsize=13)\n",
    "plt.show()"
   ]
  },
  {
   "cell_type": "markdown",
   "id": "beb2dc1b",
   "metadata": {},
   "source": [
    "### 22. Creating Charts - Top Departments - By Region"
   ]
  },
  {
   "cell_type": "code",
   "execution_count": 66,
   "id": "db75464b",
   "metadata": {},
   "outputs": [
    {
     "data": {
      "image/png": "[encoded data removed]",
      "text/plain": [
       "<Figure size 936x432 with 1 Axes>"
      ]
     },
     "metadata": {},
     "output_type": "display_data"
    }
   ],
   "source": [
    "#Creating a bar chart of Top 10 departments in the Northeast Region\n",
    "top_10_depts_northeast = northeast['department_name'].value_counts().nlargest(10).plot.barh(figsize = (13,6), color = ['green'])\n",
    "sns.set_style('ticks')\n",
    "plt.xlabel('Number of Items Ordered (in millions)', fontsize = 13, fontweight = 'bold')\n",
    "plt.ylabel('Department', fontsize = 13, fontweight = 'bold')\n",
    "plt.xticks(fontsize = 13)\n",
    "plt.yticks(fontsize = 13)\n",
    "plt.title('Number of Ordered Products From Top 10 Departments - Northeast Region', fontsize = 13, fontweight = 'bold')\n",
    "plt.show()"
   ]
  },
  {
   "cell_type": "code",
   "execution_count": 67,
   "id": "c8c35c7e",
   "metadata": {},
   "outputs": [
    {
     "data": {
      "image/png": "[encoded data removed]",
      "text/plain": [
       "<Figure size 936x432 with 1 Axes>"
      ]
     },
     "metadata": {},
     "output_type": "display_data"
    }
   ],
   "source": [
    "#Creating a bar chart of Top 10 departments in the South Region\n",
    "top_10_depts_south = south['department_name'].value_counts().nlargest(10).plot.barh(figsize = (13,6), color = ['green'])\n",
    "sns.set_style('ticks')\n",
    "plt.xlabel('Number of Items Ordered (in millions)', fontsize = 13, fontweight = 'bold')\n",
    "plt.ylabel('Department', fontsize = 13, fontweight = 'bold')\n",
    "plt.xticks(fontsize = 13)\n",
    "plt.yticks(fontsize = 13)\n",
    "plt.title('Number of Ordered Products From Top 10 Departments - South Region', fontsize = 13, fontweight = 'bold')\n",
    "plt.show()"
   ]
  },
  {
   "cell_type": "code",
   "execution_count": 68,
   "id": "9c03c4c5",
   "metadata": {},
   "outputs": [],
   "source": [
    "#Saving images of the 2 bar charts\n",
    "top_10_depts_northeast.figure.savefig(os.path.join(path, '04 Analysis','Visualisations', 'fc_top_10_depts_northeast.png'))\n",
    "top_10_depts_south.figure.savefig(os.path.join(path, '04 Analysis','Visualisations', 'fc_top_10_depts_south.png'))"
   ]
  },
  {
   "cell_type": "markdown",
   "id": "9a168579",
   "metadata": {},
   "source": [
    "### 23. Creating Charts - Orders in each Dept, by Region"
   ]
  },
  {
   "cell_type": "code",
   "execution_count": 81,
   "id": "e5c3431f",
   "metadata": {},
   "outputs": [],
   "source": [
    "#Creating a crosstab to establish if there is a correlation between region and departments\n",
    "ctab_department_region = pd.crosstab(df10wdepts['department_name'], df10wdepts['region'], dropna = False)"
   ]
  },
  {
   "cell_type": "code",
   "execution_count": 82,
   "id": "de000ea3",
   "metadata": {},
   "outputs": [
    {
     "data": {
      "image/png": "[encoded data removed]",
      "text/plain": [
       "<Figure size 864x720 with 1 Axes>"
      ]
     },
     "metadata": {},
     "output_type": "display_data"
    }
   ],
   "source": [
    "#Creating a stacked bar chart of the departments, divided up by the regions\n",
    "ctab = ctab_department_region.plot(kind = 'bar', figsize = (12,10), stacked = True, color = sns.color_palette('Greens', 4))\n",
    "plt.legend(loc='upper left')\n",
    "plt.tight_layout()\n",
    "plt.xlabel('Departments', fontsize = 13, fontweight = 'bold')\n",
    "plt.xticks(fontsize = 13)\n",
    "plt.title('Division of products ordered in each Department - by Region', fontsize = 13, fontweight = 'bold')\n",
    "plt.show()"
   ]
  },
  {
   "cell_type": "code",
   "execution_count": 83,
   "id": "f8a45dbc",
   "metadata": {},
   "outputs": [],
   "source": [
    "#Saving image of the bar chart\n",
    "ctab.figure.savefig(os.path.join(path, '04 Analysis','Visualisations', 'fc_dept_regions.png'))"
   ]
  },
  {
   "cell_type": "code",
   "execution_count": 56,
   "id": "e395319b",
   "metadata": {},
   "outputs": [],
   "source": [
    "#Creating a subset of the individual products\n",
    "df10ex_prods_unique = df10ex.drop_duplicates(subset = [\"product_id\"])"
   ]
  },
  {
   "cell_type": "code",
   "execution_count": 57,
   "id": "4eb44285",
   "metadata": {},
   "outputs": [
    {
     "data": {
      "text/plain": [
       "Mid-range product     32822\n",
       "Low-range product     16290\n",
       "High-range product      545\n",
       "Name: price_range_loc, dtype: int64"
      ]
     },
     "execution_count": 57,
     "metadata": {},
     "output_type": "execute_result"
    }
   ],
   "source": [
    "#Rechecking the flag count\n",
    "df10ex_prods_unique['price_range_loc'].value_counts(dropna = False)"
   ]
  },
  {
   "cell_type": "markdown",
   "id": "7a4dcdaf",
   "metadata": {},
   "source": [
    "### 24. Task for CFO\n",
    "#### The CFO isn’t interested in customers who don’t generate much revenue for the app. Create an exclusion flag for low-activity customers (customers with less than 5 orders) and exclude them from the data. Make sure you export this sample.\n",
    "##### -- Using the full dataframe as there is no need to see any percentage of customers. --"
   ]
  },
  {
   "cell_type": "code",
   "execution_count": 84,
   "id": "74c8c90a",
   "metadata": {},
   "outputs": [],
   "source": [
    "#Creating the flag for low orders customer and high orders customer\n",
    "df10wdepts.loc[df10wdepts['max_order'] < 5, 'low_orders_flag'] = 'low orders'\n",
    "df10wdepts.loc[df10wdepts['max_order'] >= 5, 'low_orders_flag'] = 'good orders'"
   ]
  },
  {
   "cell_type": "code",
   "execution_count": 85,
   "id": "3a43b704",
   "metadata": {},
   "outputs": [
    {
     "data": {
      "text/plain": [
       "good orders    30959687\n",
       "low orders      1440045\n",
       "Name: low_orders_flag, dtype: int64"
      ]
     },
     "execution_count": 85,
     "metadata": {},
     "output_type": "execute_result"
    }
   ],
   "source": [
    "#Confirming the flag is working\n",
    "df10wdepts['low_orders_flag'].value_counts(dropna = False)"
   ]
  },
  {
   "cell_type": "code",
   "execution_count": 86,
   "id": "f62e9472",
   "metadata": {},
   "outputs": [
    {
     "data": {
      "text/plain": [
       "order_id                              0\n",
       "user_id                               0\n",
       "order_number                          0\n",
       "orders_day_of_week                    0\n",
       "order_hour_of_day                     0\n",
       "days_since_prior_order          2075745\n",
       "first_order                           0\n",
       "product_id                            0\n",
       "reordered                             0\n",
       "product_name                          0\n",
       "aisle_id                              0\n",
       "department_id                         0\n",
       "prices                                0\n",
       "price_range_loc                       0\n",
       "busiest_day                           0\n",
       "busiest_period_of_day                 0\n",
       "max_order                             0\n",
       "loyalty_flag                          0\n",
       "spend_group                           0\n",
       "spend_flag                            0\n",
       "days_since_last_order_median          5\n",
       "order_frequency_flag                  5\n",
       "gender                                0\n",
       "state                                 0\n",
       "age                                   0\n",
       "date_joined                           0\n",
       "children                              0\n",
       "f_status                              0\n",
       "income                                0\n",
       "_merge                                0\n",
       "region                                0\n",
       "age_group                             0\n",
       "income_group                          0\n",
       "parent_status                         0\n",
       "new_income                            0\n",
       "department_name                       0\n",
       "low_orders_flag                       0\n",
       "dtype: int64"
      ]
     },
     "execution_count": 86,
     "metadata": {},
     "output_type": "execute_result"
    }
   ],
   "source": [
    "#Checking to find if 'low_orders_flag' column has any Null entries\n",
    "df10wdepts.isnull().sum()"
   ]
  },
  {
   "cell_type": "code",
   "execution_count": 88,
   "id": "d7a187c1",
   "metadata": {},
   "outputs": [],
   "source": [
    "#Creating a subset with just the 'good orders' customers\n",
    "good_orders_customers = df10wdepts[df10wdepts['low_orders_flag'] == 'good orders']"
   ]
  },
  {
   "cell_type": "code",
   "execution_count": 89,
   "id": "de591647",
   "metadata": {},
   "outputs": [],
   "source": [
    "#Exporting the 'good orders' customers subset to Pickle file\n",
    "good_orders_customers.to_pickle(os.path.join(path,'02 Data','Prepared Data','good_orders_customers.pkl'))"
   ]
  },
  {
   "cell_type": "markdown",
   "id": "f87f5433",
   "metadata": {},
   "source": [
    "### 25. Exporting final dataframe"
   ]
  },
  {
   "cell_type": "code",
   "execution_count": 90,
   "id": "a01ff9b5",
   "metadata": {},
   "outputs": [],
   "source": [
    "#Exporting the final dataframe\n",
    "df10wdepts.to_pickle(os.path.join(path, '02 Data','Prepared Data', 'df_10_with_depts.pkl'))"
   ]
  }
 ],
 "metadata": {
  "kernelspec": {
   "display_name": "Python 3 (ipykernel)",
   "language": "python",
   "name": "python3"
  },
  "language_info": {
   "codemirror_mode": {
    "name": "ipython",
    "version": 3
   },
   "file_extension": ".py",
   "mimetype": "text/x-python",
   "name": "python",
   "nbconvert_exporter": "python",
   "pygments_lexer": "ipython3",
   "version": "3.9.7"
  }
 },
 "nbformat": 4,
 "nbformat_minor": 5
}
